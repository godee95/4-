{
 "cells": [
  {
   "cell_type": "code",
   "execution_count": 1,
   "metadata": {},
   "outputs": [],
   "source": [
    "import numpy as np"
   ]
  },
  {
   "cell_type": "code",
   "execution_count": 5,
   "metadata": {},
   "outputs": [
    {
     "name": "stdout",
     "output_type": "stream",
     "text": [
      "[ 0  1  2  3  4  5  6  7  8  9 10 11 12 13 14 15 16 17 18 19 20 21 22 23\n",
      " 24 25 26 27 28 29]\n",
      "\n",
      "[0.  0.5 1.  1.5 2.  2.5 3.  3.5 4.  4.5]\n",
      "\n",
      "[[ 0  1  2  3  4  5]\n",
      " [ 6  7  8  9 10 11]\n",
      " [12 13 14 15 16 17]\n",
      " [18 19 20 21 22 23]\n",
      " [24 25 26 27 28 29]]\n"
     ]
    }
   ],
   "source": [
    "print(np.arange(30))\n",
    "print()\n",
    "print(np.arange(0,5,0.5))\n",
    "print()\n",
    "print(np.arange(30).reshape(5,6))"
   ]
  },
  {
   "cell_type": "code",
   "execution_count": 19,
   "metadata": {},
   "outputs": [
    {
     "name": "stdout",
     "output_type": "stream",
     "text": [
      "[0 0 0 0 0 0 0 0 0 0]\n",
      "\n",
      "[[0. 0. 0. 0. 0.]\n",
      " [0. 0. 0. 0. 0.]]\n",
      "\n",
      "[1 1 1 1 1 1 1 1 1 1]\n",
      "\n",
      "[[1. 1. 1. 1. 1.]\n",
      " [1. 1. 1. 1. 1.]]\n",
      "\n",
      "[1 1 1 1 1 1 1 1 1 1]\n",
      "\n",
      "[[2.12199579e-314 6.36598737e-314 1.06099790e-313 1.48539705e-313\n",
      "  1.90979621e-313]\n",
      " [2.33419537e-313 2.75859453e-313 3.18299369e-313 3.60739285e-313\n",
      "  4.03179200e-313]\n",
      " [4.45619116e-313 4.88059032e-313 5.30498948e-313 5.72938864e-313\n",
      "  6.15378780e-313]]\n",
      "\n",
      "[[0 0 0 0 0 0]\n",
      " [0 0 0 0 0 0]\n",
      " [0 0 0 0 0 0]\n",
      " [0 0 0 0 0 0]\n",
      " [0 0 0 0 0 0]]\n"
     ]
    }
   ],
   "source": [
    "print(np.zeros(shape=(10,), dtype=np.int8))\n",
    "print()\n",
    "print(np.zeros((2,5)))\n",
    "\n",
    "print()\n",
    "print(np.ones(shape=(10,), dtype=np.int8))\n",
    "print()\n",
    "print(np.ones((2,5)))\n",
    "\n",
    "print()\n",
    "print(np.empty(shape=(10,), dtype=np.int8))\n",
    "print()\n",
    "print(np.empty((3,5)))\n",
    "\n",
    "print()\n",
    "test_matrix = np.arange(30).reshape(5,6)\n",
    "print(np.zeros_like(test_matrix))"
   ]
  },
  {
   "cell_type": "code",
   "execution_count": 35,
   "metadata": {},
   "outputs": [
    {
     "name": "stdout",
     "output_type": "stream",
     "text": [
      "[[1 0 0]\n",
      " [0 1 0]\n",
      " [0 0 1]]\n",
      "\n",
      "[[1. 0. 0. 0. 0.]\n",
      " [0. 1. 0. 0. 0.]\n",
      " [0. 0. 1. 0. 0.]\n",
      " [0. 0. 0. 1. 0.]\n",
      " [0. 0. 0. 0. 1.]]\n",
      "\n",
      "[[1 0 0 0 0]\n",
      " [0 1 0 0 0]\n",
      " [0 0 1 0 0]]\n",
      "\n",
      "[[0. 0. 1. 0. 0.]\n",
      " [0. 0. 0. 1. 0.]\n",
      " [0. 0. 0. 0. 1.]]\n",
      "\n",
      "[0 1 2 3 4 5 6 7 8]\n",
      "\n",
      "[0 4 8]\n",
      "\n",
      "[1 5]\n",
      "\n",
      "[[0.56393048 0.82372326 0.78546053 0.04951706 0.29337077]\n",
      " [0.8264171  0.08769262 0.08740443 0.29216017 0.09839456]]\n",
      "\n",
      "[[-0.79973326 -1.16062971  0.48322406 -0.25144666 -0.47850894]\n",
      " [ 0.82854585  1.68910528 -0.33355544 -0.95646024  0.82103076]]\n"
     ]
    }
   ],
   "source": [
    "print(np.identity(n=3, dtype=np.int8))\n",
    "print()\n",
    "print(np.identity(5))\n",
    "\n",
    "print()\n",
    "print(np.eye(N=3, M=5, dtype=np.int8))\n",
    "print()\n",
    "# 3행 5열 I행렬, 시작은 2(0,1,2)열부턴\n",
    "print(np.eye(3,5,k=2))\n",
    "\n",
    "print()\n",
    "# diag는 매트릭스 reshape(3행 3열)의 대각선 값을 출력\n",
    "print(np.arange(9))\n",
    "matrix = np.arange(9).reshape(3,3)\n",
    "print()\n",
    "print(np.diag(matrix))\n",
    "print()\n",
    "print(np.diag(matrix, k=1))\n",
    "print()\n",
    "\n",
    "# 0~1까지 랜덤하게 양수 10개 출력, 이를 2행 5열로 재배열\n",
    "print(np.random.uniform(0,1,10).reshape(2,5))\n",
    "print()\n",
    "# 0~1까지 랜덤하게 양수/음수 10개 출력, 이를 2행 5열로 재배열\n",
    "print(np.random.normal(0,1,10).reshape(2,5))"
   ]
  },
  {
   "cell_type": "code",
   "execution_count": null,
   "metadata": {},
   "outputs": [],
   "source": []
  }
 ],
 "metadata": {
  "kernelspec": {
   "display_name": "Python 3",
   "language": "python",
   "name": "python3"
  },
  "language_info": {
   "codemirror_mode": {
    "name": "ipython",
    "version": 3
   },
   "file_extension": ".py",
   "mimetype": "text/x-python",
   "name": "python",
   "nbconvert_exporter": "python",
   "pygments_lexer": "ipython3",
   "version": "3.7.3"
  }
 },
 "nbformat": 4,
 "nbformat_minor": 2
}
