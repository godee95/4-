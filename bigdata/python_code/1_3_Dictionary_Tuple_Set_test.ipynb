{
 "cells": [
  {
   "cell_type": "markdown",
   "metadata": {},
   "source": [
    "## Dictionary_Tuple_Set"
   ]
  },
  {
   "cell_type": "markdown",
   "metadata": {},
   "source": [
    "### Tuple"
   ]
  },
  {
   "cell_type": "code",
   "execution_count": 18,
   "metadata": {},
   "outputs": [
    {
     "name": "stdout",
     "output_type": "stream",
     "text": [
      "tuple\n",
      "3\n",
      "[4, 5]\n",
      "4\n",
      "(1, 2, 3)\n"
     ]
    }
   ],
   "source": [
    "myTuple = (\"tuple\", (1, 2, 3), [4, 5, 6])\n",
    "\n",
    "\n",
    "# 'tuple'을 출력하시오\n",
    "print(myTuple[0])\n",
    "# 3을 출력하세요\n",
    "print(myTuple[1][2])\n",
    "# 4,5를 출력하세요\n",
    "print(myTuple[2][:2])\n",
    "#print(myTuple[2][:2].myTuple[0][:2][1])\n",
    "# 4를 출력하세요\n",
    "print(myTuple[2][0])\n",
    "# (1, 2, 3)을 출력하세요\n",
    "print(myTuple[1])"
   ]
  },
  {
   "cell_type": "code",
   "execution_count": 19,
   "metadata": {},
   "outputs": [
    {
     "name": "stdout",
     "output_type": "stream",
     "text": [
      "(1, 2, 3, 3, 2, 1, 4, 5, 6)\n",
      "(1, 2, 3, 3, 2, 1, 1, 2, 3, 3, 2, 1, 1, 2, 3, 3, 2, 1)\n",
      "True\n",
      "False\n",
      "2\n",
      "1\n"
     ]
    }
   ],
   "source": [
    "my_tuple = (1, 2, 3, 3, 2, 1)\n",
    "your_tuple = (4, 5, 6)\n",
    "\n",
    "# 튜플 연산\n",
    "\n",
    "# our_tuple과 your_tuple을 연결하세요 \n",
    "print(my_tuple+your_tuple)\n",
    "# mytuple을 3번 반복하세요\n",
    "print(my_tuple*3)\n",
    "# mytuple에 3이 있는지 확인하세요\n",
    "print(3 in my_tuple)\n",
    "# mytuple에 5가 있는지 확인하세요\n",
    "print(5 in my_tuple)\n",
    "# mytuple에서 1의 갯수를 출력하세요\n",
    "print(my_tuple.count(1))\n",
    "# mytuple에서 index 2자리의 값을 출력하세요\n",
    "print(my_tuple.index(2))\n"
   ]
  },
  {
   "cell_type": "code",
   "execution_count": 23,
   "metadata": {},
   "outputs": [
    {
     "name": "stdout",
     "output_type": "stream",
     "text": [
      "3\n",
      "120.09\n",
      "2.8\n",
      "132.0\n",
      "44.0\n",
      "[2.8, 9.11, 120.09]\n"
     ]
    }
   ],
   "source": [
    "t_float = (120.09, 9.11, 2.8)\n",
    "L_int = [1, 2, 3]\n",
    "\n",
    "import numpy as np #numpy아직 안배웠지만 불러와 사용\n",
    "\n",
    "# t_float의 길이를 출력하세요\n",
    "print(len(t_float))\n",
    "# t_float의 최대값을 출력하세요\n",
    "print(max(t_float))\n",
    "# t_float의 최소값을 출력하세요\n",
    "print(min(t_float))\n",
    "# t_float의 합을 출력하세요.\n",
    "print(sum(t_float))\n",
    "# t_float의 평균을 출력하세요.\n",
    "print(np.mean(t_float))\n",
    "# t_float를 오름차순 정렬하세요\n",
    "print(sorted(t_float))\n"
   ]
  },
  {
   "cell_type": "markdown",
   "metadata": {},
   "source": [
    "### Set"
   ]
  },
  {
   "cell_type": "code",
   "execution_count": 26,
   "metadata": {},
   "outputs": [
    {
     "data": {
      "text/plain": [
       "set"
      ]
     },
     "execution_count": 26,
     "metadata": {},
     "output_type": "execute_result"
    }
   ],
   "source": [
    "\n",
    "# my_set이라는 빈 집합을 만들고 타입을 출력하세요..\n",
    "my_set = set()\n",
    "type(my_set)\n",
    "\n",
    "#my_set={} type(my_set) 하면 dict출력 사전 만들어짐\n"
   ]
  },
  {
   "cell_type": "code",
   "execution_count": 35,
   "metadata": {},
   "outputs": [
    {
     "name": "stdout",
     "output_type": "stream",
     "text": [
      "{'earth', ('1', '2'), 'sky', 'sea'}\n",
      "{('1', '2'), 'sky', 'sea'}\n"
     ]
    }
   ],
   "source": [
    "# 'sky'와 'sea'를 요소로 하는 set을 만드세요\n",
    "my_set={'sky','sea' }\n",
    "# 'earth' 요소를 추가하세요\n",
    "my_set.add('earth')\n",
    "# ('1', '2') 요소를 추가하세요\n",
    "my_set.add(('1', '2'))\n",
    "print (my_set)\n",
    "# 무작위로 요소 하나를 삭제하세요\n",
    "my_set.pop()\n",
    "print (my_set)"
   ]
  },
  {
   "cell_type": "code",
   "execution_count": 40,
   "metadata": {},
   "outputs": [
    {
     "name": "stdout",
     "output_type": "stream",
     "text": [
      "{'수성', '지구', '목성', '토성', '화성', '금성', '천왕성', '해왕성'}\n",
      "\n",
      "{'수성', '지구', '목성', '토성', '화성', '해왕성'}\n"
     ]
    }
   ],
   "source": [
    "s_planet = {'수성', '금성', '지구', '화성', '목성', '토성', '천왕성', '해왕성'}\n",
    "print(s_planet)\n",
    "print()\n",
    "\n",
    "# '금성' 을 삭제하세요\n",
    "s_planet.discard('금성')\n",
    "s_planet.remove('천왕성')\n",
    "print (s_planet)\n",
    "# 위와 다른 함수를 사용해서 '천왕성'을 삭제하세요\n",
    "# 모든 항목을 지우세요\n",
    "s_planet.clear()\n"
   ]
  },
  {
   "cell_type": "code",
   "execution_count": 42,
   "metadata": {},
   "outputs": [
    {
     "name": "stdout",
     "output_type": "stream",
     "text": [
      "{1, 2, 3, 4, 5, 6, 7, 8, 9}\n",
      "{1, 2, 3}\n",
      "{4, 5, 6}\n",
      "{4, 5, 6, 7, 8, 9}\n",
      "False\n",
      "True\n"
     ]
    },
    {
     "data": {
      "text/plain": [
       "True"
      ]
     },
     "execution_count": 42,
     "metadata": {},
     "output_type": "execute_result"
    }
   ],
   "source": [
    "A = {1, 2, 3, 4, 5, 6}\n",
    "B = {1, 2, 3, 7, 8, 9}\n",
    "\n",
    "# 합집합을 구하세요\n",
    "print(A.union(B))\n",
    "# 교집합을 구하세요\n",
    "print(A.intersection(B))\n",
    "# 차집합을 구하세요\n",
    "print(A.difference(B))\n",
    "# 대칭차집합을 구하세요\n",
    "print(A.symmetric_difference(B))\n",
    "\n",
    "# 부분집합\n",
    "# {4, 5, 6}가 A의 부분집합인지 확인하세요\n",
    "print({4,5,6}.issubset(B))\n",
    "# A가 {4, 5, 6}을 포함하닌지 확인하세요\n",
    "print(A.issuperset({4,5,6}))\n",
    "A.issuperset(C)"
   ]
  },
  {
   "cell_type": "code",
   "execution_count": 44,
   "metadata": {},
   "outputs": [
    {
     "name": "stdout",
     "output_type": "stream",
     "text": [
      "{10.0, 1.0, 2.0, 3.0}\n",
      "\n",
      "4\n",
      "[1.0, 2.0, 3.0, 10.0]\n",
      "True\n"
     ]
    }
   ],
   "source": [
    "s_float = {1.0, 3.0, 2.0, 10.0}\n",
    "print(s_float)\n",
    "print()\n",
    "\n",
    "# s_float의 길이를 구하세요\n",
    "print(len(s_float))\n",
    "# s_float를 올림차순 정렬하세요???\n",
    "print(sorted(s_float))\n",
    "# s_float에 2.0이 포함되는지 확인하세요\n",
    "print(2.0 in s_float)"
   ]
  },
  {
   "cell_type": "markdown",
   "metadata": {},
   "source": [
    "### Dictionary"
   ]
  },
  {
   "cell_type": "code",
   "execution_count": 46,
   "metadata": {},
   "outputs": [
    {
     "name": "stdout",
     "output_type": "stream",
     "text": [
      "{'태양': 'Sun', '수성': 'Mercury', '금성': 'Venus', '지구': 'Earth', '화성': 'Mars', '목성': 'Jupiter', '토성': 'Saturn', '천왕성': 'Uranus', '해왕성': 'Neptune'}\n"
     ]
    }
   ],
   "source": [
    "solar1 = ['태양', '수성', '금성', '지구', '화성', '목성', '토성', '천왕성', '해왕성']\n",
    "solar2 = ['Sun', 'Mercury', 'Venus', 'Earth', 'Mars', 'Jupiter', 'Saturn', 'Uranus', 'Neptune']\n",
    "solardict = {}\n",
    "\n",
    "# 아래와 같이 출력되도록 코딩하세요.\n",
    "# for문을 사용하세요.\n",
    "# {'태양': 'Sun', '수성': 'Mercury', '금성': 'Venus', '지구': 'Earth', \n",
    "#  '화성': 'Mars', '목성': 'Jupiter', '토성': 'Saturn', '천왕성': 'Uranus', '해왕성': 'Neptune'}\n",
    "\n",
    "for i in range(len(solar1)):\n",
    "    solardict[solar1[i]]=solar2[i]\n",
    "print(solardict)\n",
    "    "
   ]
  },
  {
   "cell_type": "code",
   "execution_count": 48,
   "metadata": {},
   "outputs": [
    {
     "name": "stdout",
     "output_type": "stream",
     "text": [
      "{'태양': 'Sun', '수성': 'Mercury', '금성': 'Venus', '지구': 'Earth', '화성': 'Mars', '목성': 'Jupiter', '토성': 'Saturn', '천왕성': 'Uranus', '해왕성': 'Neptune'}\n"
     ]
    }
   ],
   "source": [
    "#enumerate : numberign 해주는 함수\n",
    "for i, v in enumerate(solar1):\n",
    "    #print(i,v)\n",
    "    solardict[v]=solar2[i]\n",
    "    \n",
    "print(solardict)"
   ]
  },
  {
   "cell_type": "code",
   "execution_count": 50,
   "metadata": {},
   "outputs": [
    {
     "name": "stdout",
     "output_type": "stream",
     "text": [
      "{'태양': 'Sun', '수성': 'Mercury', '금성': 'Venus', '지구': 'Earth', '화성': 'Mars', '목성': 'Jupiter', '토성': 'Saturn', '천왕성': 'Uranus', '해왕성': 'Neptune'}\n"
     ]
    }
   ],
   "source": [
    "#zip : 두개의 sequent값을 같은 위치에 묶어 출력\n",
    "# numbering 없이 묶어줌\n",
    "for x,y in zip(solar1, solar2):\n",
    "    #print(x,y)\n",
    "    solardict[x]=y\n",
    "    \n",
    "print(solardict)"
   ]
  },
  {
   "cell_type": "code",
   "execution_count": 52,
   "metadata": {},
   "outputs": [
    {
     "name": "stdout",
     "output_type": "stream",
     "text": [
      "{'Mary': 10999, 'Sams': 2111, 'Aimy': 10000, 'Tom': 20245, 'Michale': 27115, 'Bob': 5887, 'Kelly': 7855}\n"
     ]
    }
   ],
   "source": [
    "names = {'Mary':10999, 'Sams':2111, 'Aimy':9778, 'Tom':20245, \n",
    "'Michale':27115, 'Bob':5887, 'Kelly':7855}\n",
    "\n",
    "# Aimy의 value를 10000으로 수정하세요\n",
    "names['Aimy']=10000\n",
    "print(names)"
   ]
  },
  {
   "cell_type": "code",
   "execution_count": 59,
   "metadata": {},
   "outputs": [
    {
     "name": "stdout",
     "output_type": "stream",
     "text": [
      "{'Mary': 10999, 'Aimy': 9778, 'Tom': 20245, 'Michale': 27115, 'Bob': 5887, 'Kelly': 7855}\n",
      "81879\n",
      "27115\n",
      "dict_keys(['Mary', 'Aimy', 'Tom', 'Michale', 'Bob', 'Kelly'])\n",
      "dict_values([10999, 9778, 20245, 27115, 5887, 7855])\n",
      "{}\n"
     ]
    }
   ],
   "source": [
    "names = {'Mary':10999, 'Sams':2111, 'Aimy':9778, 'Tom':20245, \n",
    "'Michale':27115, 'Bob':5887, 'Kelly':7855}\n",
    "\n",
    "# 'Sams'를 삭제하세요\n",
    "del names['Sams']\n",
    "print(names)\n",
    "# value 값들의 합을 구하세요\n",
    "print(sum(names.values()))\n",
    "# value 값들의 최대값을 구하세요\n",
    "print(max(names.values()))\n",
    "# key값들을 출력하세요\n",
    "print(names.keys())\n",
    "# value값들을 출력하세요\n",
    "print(names.values())\n",
    "# 모든 요소를 삭제하세요\n",
    "names.clear()\n",
    "print(names)"
   ]
  },
  {
   "cell_type": "code",
   "execution_count": 63,
   "metadata": {},
   "outputs": [
    {
     "name": "stdout",
     "output_type": "stream",
     "text": [
      "이름을 입력하세요: 55\n",
      "55\n"
     ]
    },
    {
     "data": {
      "text/plain": [
       "str"
      ]
     },
     "execution_count": 63,
     "metadata": {},
     "output_type": "execute_result"
    }
   ],
   "source": [
    "###### 안배운 함수, 입력 이런식을 받아서 변수에 저장\n",
    "k = input('이름을 입력하세요: ')\n",
    "print(k)\n",
    "#k=int(k)\n",
    "type(k)"
   ]
  },
  {
   "cell_type": "code",
   "execution_count": 10,
   "metadata": {},
   "outputs": [
    {
     "name": "stdout",
     "output_type": "stream",
     "text": [
      "이름을 입력하시요 :byeon\n"
     ]
    },
    {
     "data": {
      "text/plain": [
       "'0000'"
      ]
     },
     "execution_count": 10,
     "metadata": {},
     "output_type": "execute_result"
    }
   ],
   "source": [
    "names = {'Mary':10999, 'Sams':2111, 'Aimy':9778, 'Tom':20245, \n",
    "'Michale':27115, 'Bob':5887, 'Kelly':7855}\n",
    "#k = input('이름을 입력하세요: ')\n",
    "\n",
    "# 이름을 입력받고, 이름의 value값을 출력하도록 코딩하세요\n",
    "# 이름이 없으면, 값 oooo으로 names에 추가하시오.\n",
    "\n",
    "name=input('이름을 입력하시요 :')\n",
    "\n",
    "#1번째 방법\n",
    "#if name in names:\n",
    "#    print(names[name])\n",
    "#else :\n",
    "#    names[name]=0000\n",
    "#    print(names)\n",
    "\n",
    "#2번째 방법, 있으면 값 return 없으면 값 추가\n",
    "names.setdefault(name, '0000')"
   ]
  },
  {
   "cell_type": "code",
   "execution_count": 25,
   "metadata": {},
   "outputs": [
    {
     "data": {
      "text/plain": [
       "[('Sams', 2111),\n",
       " ('Bob', 5887),\n",
       " ('Kelly', 7855),\n",
       " ('Aimy', 9778),\n",
       " ('Mary', 10999),\n",
       " ('Tom', 20245),\n",
       " ('Michale', 27115)]"
      ]
     },
     "execution_count": 25,
     "metadata": {},
     "output_type": "execute_result"
    }
   ],
   "source": [
    "names = {'Mary':10999, 'Sams':2111, 'Aimy':9778, 'Tom':20245, \n",
    "'Michale':27115, 'Bob':5887, 'Kelly':7855}\n",
    "\n",
    "# key를 기준으로 올림차순 정렬하세요\n",
    "#sorted(names.items())\n",
    "\n",
    "#value를 중심으로 정렬하시오.\n",
    "sorted(names.items(), key=lambda x:x[1])"
   ]
  },
  {
   "cell_type": "code",
   "execution_count": 24,
   "metadata": {},
   "outputs": [
    {
     "name": "stdout",
     "output_type": "stream",
     "text": [
      "18\n",
      "singer\n",
      "{'name': '수지', 'age': 18, 'job': 'singer'}\n",
      "{'name': '수지', 'age': 18, 'job': 'singer', 'birth': '1994-07-07', 'manager': 'JYP'}\n"
     ]
    }
   ],
   "source": [
    "my_idol = {\"name\": \"쯔위\", \"age\": 18, \"job\": \"singer\"}\n",
    "\n",
    "# age의 값을 출력하시오\n",
    "print(my_idol['age'])\n",
    "# job의 값을 출력하시오\n",
    "print(my_idol['job'])\n",
    "# name의 값을 '수지'로 수정하시오\n",
    "my_idol[\"name\"]=\"수지\"\n",
    "print(my_idol)\n",
    "# 'birth' 의 값을 '1994-07-07'로 추가하시오\n",
    "my_idol['birth']='1994-07-07'\n",
    "# 'manager'의 값을 'JYP'로 추가하시오\n",
    "my_idol['manager']='JYP'\n",
    "print(my_idol)\n"
   ]
  },
  {
   "cell_type": "code",
   "execution_count": 35,
   "metadata": {},
   "outputs": [
    {
     "name": "stdout",
     "output_type": "stream",
     "text": [
      "{'job': 'singer', 'age': 18, 'name': '수지', 'birth': '1994-10-10'}\n",
      "\n",
      "{'job': 'singer', 'age': 18, 'name': '수지'}\n",
      "{'job': 'singer', 'age': 18}\n",
      "('age', 18)\n",
      "{}\n"
     ]
    }
   ],
   "source": [
    "my_idol = {'job': 'singer', 'age': 18, 'name': '수지', 'birth': '1994-10-10'}\n",
    "print(my_idol)\n",
    "print()\n",
    "\n",
    "# 'birth' 항목 가져오고 삭제하기\n",
    "my_idol.pop('birth')\n",
    "print(my_idol)\n",
    "#del my_idol['birth']\n",
    "\n",
    "# 'age' 항목 삭제하기\n",
    "my_idol.popitem()\n",
    "print(my_idol)\n",
    "\n",
    "# 임의의 항목 가져오면서 삭제하기\n",
    "a = my_idol.popitem()\n",
    "print(a)\n",
    "\n",
    "# 사전 비우기\n",
    "my_idol.clear()\n",
    "print(my_idol)\n",
    "\n",
    "# my_idol 사전 삭제하기\n",
    "del my_idol\n",
    "#print(my_idol) # 완전 삭제해서 출력하려고 하면 에러 "
   ]
  },
  {
   "cell_type": "code",
   "execution_count": null,
   "metadata": {},
   "outputs": [],
   "source": []
  }
 ],
 "metadata": {
  "kernelspec": {
   "display_name": "Python 3",
   "language": "python",
   "name": "python3"
  },
  "language_info": {
   "codemirror_mode": {
    "name": "ipython",
    "version": 3
   },
   "file_extension": ".py",
   "mimetype": "text/x-python",
   "name": "python",
   "nbconvert_exporter": "python",
   "pygments_lexer": "ipython3",
   "version": "3.7.3"
  }
 },
 "nbformat": 4,
 "nbformat_minor": 2
}
