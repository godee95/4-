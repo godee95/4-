{
 "cells": [
  {
   "cell_type": "code",
   "execution_count": 4,
   "metadata": {},
   "outputs": [
    {
     "name": "stdout",
     "output_type": "stream",
     "text": [
      "[1. 4. 5. 8.]\n",
      "<class 'numpy.float64'>\n"
     ]
    }
   ],
   "source": [
    "# numpy 호출\n",
    "import numpy as np\n",
    "\n",
    "# 배열 생성, 하나의 데이터 type만 배열에 넣을 수 있다.\n",
    "test_array = np.array([1,4,5,8],float)\n",
    "print(test_array)\n",
    "print(type(test_array[3]))"
   ]
  },
  {
   "cell_type": "code",
   "execution_count": 5,
   "metadata": {},
   "outputs": [
    {
     "name": "stdout",
     "output_type": "stream",
     "text": [
      "<class 'numpy.float64'>\n"
     ]
    }
   ],
   "source": [
    "test_array = np.array([1, 4, 5, \"8\"], float) \n",
    "# String Type test_array\n",
    "\n",
    "print(type(test_array[3])) # Float Type"
   ]
  },
  {
   "cell_type": "code",
   "execution_count": 7,
   "metadata": {},
   "outputs": [
    {
     "name": "stdout",
     "output_type": "stream",
     "text": [
      "float64\n"
     ]
    }
   ],
   "source": [
    "print(test_array.dtype)"
   ]
  },
  {
   "cell_type": "code",
   "execution_count": 8,
   "metadata": {},
   "outputs": [
    {
     "name": "stdout",
     "output_type": "stream",
     "text": [
      "[1. 4. 5. 8.]\n"
     ]
    }
   ],
   "source": [
    "print(test_array)"
   ]
  },
  {
   "cell_type": "code",
   "execution_count": 15,
   "metadata": {},
   "outputs": [
    {
     "name": "stdout",
     "output_type": "stream",
     "text": [
      "(4,)\n",
      "\n",
      "(3, 4)\n",
      "\n",
      "(4, 3, 4)\n",
      "3\n",
      "48\n"
     ]
    }
   ],
   "source": [
    "# 1차원 vector\n",
    "vector = [1,2,3,4]\n",
    "print(np.array(vector, int).shape)\n",
    "print()\n",
    "\n",
    "# 2차원 matrix\n",
    "matrix = [[1,2,5,8],[1,2,5,8],[1,2,5,8]]\n",
    "print(np.array(matrix, int).shape)\n",
    "print()\n",
    "\n",
    "# 3차원 tensor\n",
    "tensor =[[[1,2,5,8],[1,2,5,8],[1,2,5,8]],\n",
    "        [[1,2,5,8],[1,2,5,8],[1,2,5,8]],\n",
    "         [[1,2,5,8],[1,2,5,8],[1,2,5,8]],\n",
    "         [[1,2,5,8],[1,2,5,8],[1,2,5,8]]]\n",
    "print(np.array(tensor, int).shape)\n",
    "print(np.array(tensor, int).ndim)\n",
    "# size = 4*3*4\n",
    "print(np.array(tensor, int).size)"
   ]
  },
  {
   "cell_type": "code",
   "execution_count": 27,
   "metadata": {},
   "outputs": [
    {
     "name": "stdout",
     "output_type": "stream",
     "text": [
      "[[1 2 3]\n",
      " [4 5 6]]\n",
      "[[1.  2.  3. ]\n",
      " [4.5 5.  6. ]]\n",
      "\n",
      "24\n",
      "6\n",
      "48\n"
     ]
    }
   ],
   "source": [
    "a = np.array([[1,2,3],[4.5,5,6]], dtype=int)\n",
    "\n",
    "print(a)\n",
    "\n",
    "print(np.array([[1,2,3],[4.5,\"5\",\"6\"]], dtype=np.float32))\n",
    "\n",
    "print()\n",
    "# int는 32byte\n",
    "print(np.array([[1,2,3],[4.5,\"5\",\"6\"]], dtype=np.float32).nbytes)\n",
    "\n",
    "print(np.array([[1,2,3],[4.5,\"5\",\"6\"]], dtype=np.int8).nbytes)\n",
    "\n",
    "print(np.array([[1,2,3],[4.5,\"5\",\"6\"]], dtype=np.float64).nbytes)\n"
   ]
  },
  {
   "cell_type": "code",
   "execution_count": null,
   "metadata": {},
   "outputs": [],
   "source": []
  }
 ],
 "metadata": {
  "kernelspec": {
   "display_name": "Python 3",
   "language": "python",
   "name": "python3"
  },
  "language_info": {
   "codemirror_mode": {
    "name": "ipython",
    "version": 3
   },
   "file_extension": ".py",
   "mimetype": "text/x-python",
   "name": "python",
   "nbconvert_exporter": "python",
   "pygments_lexer": "ipython3",
   "version": "3.7.3"
  }
 },
 "nbformat": 4,
 "nbformat_minor": 2
}
