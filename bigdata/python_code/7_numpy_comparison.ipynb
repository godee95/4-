{
 "cells": [
  {
   "cell_type": "code",
   "execution_count": 1,
   "metadata": {},
   "outputs": [],
   "source": [
    "import numpy as np"
   ]
  },
  {
   "cell_type": "code",
   "execution_count": 5,
   "metadata": {},
   "outputs": [
    {
     "name": "stdout",
     "output_type": "stream",
     "text": [
      "[0 1 2 3 4 5 6 7 8 9]\n",
      "\n",
      "[False False False False False False False False False False]\n",
      "\n",
      "True False\n",
      "\n",
      "False True\n"
     ]
    }
   ],
   "source": [
    "a = np.arange(10)\n",
    "print(a)\n",
    "\n",
    "print()\n",
    "print(a<0)\n",
    "\n",
    "print()\n",
    "print(np.any(a<5), np.any(a<0))\n",
    "print()\n",
    "print(np.all(a>5), np.all(a<10))"
   ]
  },
  {
   "cell_type": "code",
   "execution_count": 8,
   "metadata": {},
   "outputs": [
    {
     "name": "stdout",
     "output_type": "stream",
     "text": [
      "[ True False  True]\n",
      "\n",
      "[False False False]\n",
      "\n",
      "True\n"
     ]
    }
   ],
   "source": [
    "test_a = np.array([1,3,0], float)\n",
    "test_b = np.array([5,2,1], float)\n",
    "print(test_a < test_b)\n",
    "\n",
    "print()\n",
    "print(test_a == test_b)\n",
    "\n",
    "print()\n",
    "print((test_a > test_b).any())"
   ]
  },
  {
   "cell_type": "code",
   "execution_count": 21,
   "metadata": {},
   "outputs": [
    {
     "name": "stdout",
     "output_type": "stream",
     "text": [
      "[ True False False]\n",
      "\n",
      "[False  True False]\n",
      "\n",
      "[3 3 2]\n",
      "\n",
      "**************************************************\n",
      "[ 5  6  7  8  9 10 11 12 13 14]\n",
      "\n",
      "(array([6, 7, 8, 9], dtype=int64),)\n",
      "\n",
      "[False  True False]\n",
      "\n",
      "[ True False False]\n"
     ]
    }
   ],
   "source": [
    "a = np.array([1,3,0], float)\n",
    "print(np.logical_and(a>0, a<3))\n",
    "\n",
    "# true는 false로 false는 true로 출력\n",
    "print()\n",
    "b = np.array([True, False, True], bool)\n",
    "print(np.logical_not(b))\n",
    "\n",
    "# where(조건, 참일때 출력값, 거짓일때 출력값)\n",
    "print()\n",
    "print(np.where(a>0, 3, 2))\n",
    "\n",
    "print()\n",
    "print(\"*\"*50)\n",
    "a = np.arange(5,15)\n",
    "print(a)\n",
    "print()\n",
    "print(np.where(a>10))\n",
    "\n",
    "# np.NaN : 값이 없음\n",
    "# np.Inf ; 무한대\n",
    "\n",
    "# isnan : 비어있냐?\n",
    "# isfinite : 유한한 값이냐?\n",
    "print()\n",
    "a = np.array([1, np.NaN, np.Inf], float)\n",
    "print(np.isnan(a))\n",
    "print()\n",
    "print(np.isfinite(a))"
   ]
  },
  {
   "cell_type": "code",
   "execution_count": 22,
   "metadata": {},
   "outputs": [
    {
     "name": "stdout",
     "output_type": "stream",
     "text": [
      "5 0\n"
     ]
    }
   ],
   "source": [
    "# 범위 내의 최대값 최소값의 index를 반환\n",
    "\n",
    "a = np.array([1,2,4,5,8,78,23,3])\n",
    "print(np.argmax(a), np.argmin(a))"
   ]
  },
  {
   "cell_type": "code",
   "execution_count": 23,
   "metadata": {},
   "outputs": [
    {
     "name": "stdout",
     "output_type": "stream",
     "text": [
      "[3 1 1]\n",
      "[0 0 2 2]\n"
     ]
    }
   ],
   "source": [
    "a = np.array([[1,2,4,7],[9,88,6,45],[9,76,3,4]])\n",
    "print(np.argmax(a, axis = 1)) \n",
    "print(np.argmin(a, axis=0))"
   ]
  },
  {
   "cell_type": "code",
   "execution_count": null,
   "metadata": {},
   "outputs": [],
   "source": []
  }
 ],
 "metadata": {
  "kernelspec": {
   "display_name": "Python 3",
   "language": "python",
   "name": "python3"
  },
  "language_info": {
   "codemirror_mode": {
    "name": "ipython",
    "version": 3
   },
   "file_extension": ".py",
   "mimetype": "text/x-python",
   "name": "python",
   "nbconvert_exporter": "python",
   "pygments_lexer": "ipython3",
   "version": "3.7.3"
  }
 },
 "nbformat": 4,
 "nbformat_minor": 2
}
