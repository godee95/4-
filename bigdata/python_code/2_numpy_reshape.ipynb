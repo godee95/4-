{
 "cells": [
  {
   "cell_type": "code",
   "execution_count": 1,
   "metadata": {},
   "outputs": [],
   "source": [
    "import numpy as np"
   ]
  },
  {
   "cell_type": "code",
   "execution_count": 13,
   "metadata": {},
   "outputs": [
    {
     "name": "stdout",
     "output_type": "stream",
     "text": [
      "(2, 4)\n",
      "\n",
      "[[[1 2]\n",
      "  [3 4]]\n",
      "\n",
      " [[1 2]\n",
      "  [5 8]]]\n",
      "\n",
      "[1 2 3 4 1 2 5 8]\n",
      "(8,)\n",
      "\n",
      "[[1 2 3 4]\n",
      " [1 2 5 8]]\n",
      "(2, 4)\n",
      "\n",
      "[[1 2 3 4]\n",
      " [1 2 5 8]]\n",
      "(2, 4)\n",
      "\n",
      "[[[1 2]\n",
      "  [3 4]]\n",
      "\n",
      " [[1 2]\n",
      "  [5 8]]]\n",
      "(2, 2, 2)\n"
     ]
    }
   ],
   "source": [
    "test_matrix=[[1,2,3,4],[1,2,5,8]]\n",
    "print(np.array(test_matrix).shape)\n",
    "print()\n",
    "print(np.array(test_matrix).reshape(2,2,2))\n",
    "print()\n",
    "\n",
    "print(np.array(test_matrix).reshape(8,))\n",
    "print(np.array(test_matrix).reshape(8,).shape)\n",
    "\n",
    "print()\n",
    "print(np.array(test_matrix).reshape(2,4))\n",
    "print(np.array(test_matrix).reshape(2,4).shape)\n",
    "\n",
    "print()\n",
    "print(np.array(test_matrix).reshape(2,-1))\n",
    "print(np.array(test_matrix).reshape(2,-1).shape)\n",
    "\n",
    "print()\n",
    "print(np.array(test_matrix).reshape(2,2,2))\n",
    "print(np.array(test_matrix).reshape(2,2,2).shape)"
   ]
  },
  {
   "cell_type": "code",
   "execution_count": 15,
   "metadata": {},
   "outputs": [
    {
     "name": "stdout",
     "output_type": "stream",
     "text": [
      "[1 2 3 4 1 2 5 8 1 2 3 4 1 2 5 8]\n"
     ]
    }
   ],
   "source": [
    "test_matrix=[[[1,2,3,4],[1,2,5,8]],[[1,2,3,4],[1,2,5,8]]]\n",
    "print(np.array(test_matrix).flatten())"
   ]
  },
  {
   "cell_type": "code",
   "execution_count": null,
   "metadata": {},
   "outputs": [],
   "source": []
  }
 ],
 "metadata": {
  "kernelspec": {
   "display_name": "Python 3",
   "language": "python",
   "name": "python3"
  },
  "language_info": {
   "codemirror_mode": {
    "name": "ipython",
    "version": 3
   },
   "file_extension": ".py",
   "mimetype": "text/x-python",
   "name": "python",
   "nbconvert_exporter": "python",
   "pygments_lexer": "ipython3",
   "version": "3.7.3"
  }
 },
 "nbformat": 4,
 "nbformat_minor": 2
}
