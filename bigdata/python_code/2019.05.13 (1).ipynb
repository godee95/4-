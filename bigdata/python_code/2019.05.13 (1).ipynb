{
 "cells": [
  {
   "cell_type": "markdown",
   "metadata": {},
   "source": [
    "#  2019.05.13  2일차"
   ]
  },
  {
   "cell_type": "code",
   "execution_count": 1,
   "metadata": {},
   "outputs": [
    {
     "data": {
      "text/plain": [
       "' 여러 줄\\n주석은\\n따옴표\\n세 개를 찍으면\\n됩니다'"
      ]
     },
     "execution_count": 1,
     "metadata": {},
     "output_type": "execute_result"
    }
   ],
   "source": [
    "''' 여러 줄\n",
    "주석은\n",
    "따옴표\n",
    "세 개를 찍으면\n",
    "됩니다'''\n",
    "\n"
   ]
  },
  {
   "cell_type": "code",
   "execution_count": 3,
   "metadata": {},
   "outputs": [],
   "source": [
    "# 가변함수\n",
    "\n",
    "a, *b=[2,3,4,5,6,7] "
   ]
  },
  {
   "cell_type": "code",
   "execution_count": 4,
   "metadata": {},
   "outputs": [
    {
     "data": {
      "text/plain": [
       "2"
      ]
     },
     "execution_count": 4,
     "metadata": {},
     "output_type": "execute_result"
    }
   ],
   "source": [
    "a"
   ]
  },
  {
   "cell_type": "code",
   "execution_count": 5,
   "metadata": {},
   "outputs": [
    {
     "data": {
      "text/plain": [
       "[3, 4, 5, 6, 7]"
      ]
     },
     "execution_count": 5,
     "metadata": {},
     "output_type": "execute_result"
    }
   ],
   "source": [
    "b"
   ]
  },
  {
   "cell_type": "code",
   "execution_count": 7,
   "metadata": {},
   "outputs": [],
   "source": [
    "*c, d=[2,3,4,5,6,7]  "
   ]
  },
  {
   "cell_type": "code",
   "execution_count": 8,
   "metadata": {},
   "outputs": [
    {
     "data": {
      "text/plain": [
       "[2, 3, 4, 5, 6]"
      ]
     },
     "execution_count": 8,
     "metadata": {},
     "output_type": "execute_result"
    }
   ],
   "source": [
    "c"
   ]
  },
  {
   "cell_type": "code",
   "execution_count": 9,
   "metadata": {},
   "outputs": [
    {
     "data": {
      "text/plain": [
       "7"
      ]
     },
     "execution_count": 9,
     "metadata": {},
     "output_type": "execute_result"
    }
   ],
   "source": [
    "d"
   ]
  },
  {
   "cell_type": "markdown",
   "metadata": {},
   "source": [
    "가변함수는 몇 개의 인자값을 받을지 정해지지 않은 함수"
   ]
  },
  {
   "cell_type": "code",
   "execution_count": 23,
   "metadata": {},
   "outputs": [],
   "source": [
    "#PASSWORD = 1234 / 비번 맞고 틀리고에 따라 다르게 나오도록\n",
    "\n",
    "def passcode():\n",
    "    password= 1234\n",
    "    \n",
    "    if int(input())== password:\n",
    "        print('로그인 되었습니다')\n",
    "    else:\n",
    "        print('비밀번호가 틀렸습니다')\n",
    "        "
   ]
  },
  {
   "cell_type": "code",
   "execution_count": 24,
   "metadata": {},
   "outputs": [
    {
     "name": "stdout",
     "output_type": "stream",
     "text": [
      "1234\n",
      "로그인 되었습니다\n"
     ]
    }
   ],
   "source": [
    "passcode()"
   ]
  },
  {
   "cell_type": "code",
   "execution_count": 31,
   "metadata": {},
   "outputs": [],
   "source": [
    "def compare():\n",
    "    print('안녕하세요 비교연산자 입니다')\n",
    "    \n",
    "    x=input('x값')\n",
    "    y=input('y값')\n",
    "    \n",
    "    if x>y:\n",
    "        \n",
    "        print('x가 y보다 큽니다')\n",
    "        \n",
    "    if x<y:\n",
    "            \n",
    "        print('y가 x보다 큽니다')\n",
    "        \n",
    "    if x==y:\n",
    "        \n",
    "        print('x와 y는 같습니다')\n",
    "        "
   ]
  },
  {
   "cell_type": "code",
   "execution_count": 32,
   "metadata": {},
   "outputs": [
    {
     "name": "stdout",
     "output_type": "stream",
     "text": [
      "안녕하세요 비교연산자 입니다\n",
      "x값10\n",
      "y값11\n",
      "y가 x보다 큽니다\n"
     ]
    }
   ],
   "source": [
    "compare()"
   ]
  },
  {
   "cell_type": "code",
   "execution_count": 37,
   "metadata": {},
   "outputs": [],
   "source": [
    "def score():\n",
    "    x=int(input('input your score'))\n",
    "    \n",
    "    if x>95:\n",
    "        print('you are A')\n",
    "    \n",
    "    elif x>80:\n",
    "        print('you are B')\n",
    "        \n",
    "    elif x>70:\n",
    "        print('you are C')\n",
    "        \n",
    "    else:\n",
    "        print('It is not score')"
   ]
  },
  {
   "cell_type": "code",
   "execution_count": 38,
   "metadata": {},
   "outputs": [
    {
     "name": "stdout",
     "output_type": "stream",
     "text": [
      "input your score100\n",
      "you are A\n"
     ]
    }
   ],
   "source": [
    "score()"
   ]
  },
  {
   "cell_type": "code",
   "execution_count": 42,
   "metadata": {},
   "outputs": [],
   "source": [
    "names ={'Mary':12,'Jane':25,'Tom':20}\n",
    "\n",
    "#이름을 받고 names에 없으면 0000으로 names에 추가, 있으면 값을 출력하도록 한다\n"
   ]
  },
  {
   "cell_type": "code",
   "execution_count": 47,
   "metadata": {},
   "outputs": [],
   "source": [
    "def friend():\n",
    "    \n",
    "    global names\n",
    "    \n",
    "    names ={'Mary':12,'Jane':25,'Tom':20}\n",
    "    \n",
    "    x=input('input your new friends!')\n",
    "    \n",
    "    if x in names:\n",
    "        \n",
    "        print(names[x])\n",
    "        \n",
    "    if x not in names:\n",
    "        \n",
    "        names[x]=0000"
   ]
  },
  {
   "cell_type": "code",
   "execution_count": 57,
   "metadata": {},
   "outputs": [],
   "source": [
    "# 가위 바위보\n",
    "\n",
    "import random\n",
    "\n",
    "def RCP():\n",
    "    \n",
    "    global option\n",
    "    \n",
    "    option={'가위':3,'바위':1,'보':2}\n",
    "    \n",
    "    mine=input('가위바위보 시작~')\n",
    "    \n",
    "    x=random.choice(option)\n",
    "    \n",
    "    if option[mine]-x == 0:\n",
    "        \n",
    "        print('비겼네...')\n",
    "        \n",
    "    if option[mine]-x ==1:\n",
    "        \n",
    "        print('이겼네')\n",
    "        \n",
    "    if option[mine]-x ==2:\n",
    "        \n",
    "        print('졌다 ㅠㅠ')\n",
    "        \n",
    "    if option[mine]-x == -1:\n",
    "        \n",
    "        print('졌다 ㅠㅜㅜㅠ')\n",
    "        \n",
    "    if option[mine]-x == -2:\n",
    "        \n",
    "        print('이겨따')\n",
    "        \n",
    "    \n",
    "    \n",
    "    "
   ]
  },
  {
   "cell_type": "code",
   "execution_count": 59,
   "metadata": {},
   "outputs": [
    {
     "name": "stdout",
     "output_type": "stream",
     "text": [
      "가위바위보 시작~가위\n"
     ]
    },
    {
     "ename": "KeyError",
     "evalue": "2",
     "output_type": "error",
     "traceback": [
      "\u001b[1;31m---------------------------------------------------------------------------\u001b[0m",
      "\u001b[1;31mKeyError\u001b[0m                                  Traceback (most recent call last)",
      "\u001b[1;32m<ipython-input-59-4557d1ecaf6d>\u001b[0m in \u001b[0;36m<module>\u001b[1;34m\u001b[0m\n\u001b[1;32m----> 1\u001b[1;33m \u001b[0mRCP\u001b[0m\u001b[1;33m(\u001b[0m\u001b[1;33m)\u001b[0m\u001b[1;33m\u001b[0m\u001b[1;33m\u001b[0m\u001b[0m\n\u001b[0m",
      "\u001b[1;32m<ipython-input-57-583c27377c1d>\u001b[0m in \u001b[0;36mRCP\u001b[1;34m()\u001b[0m\n\u001b[0;32m     11\u001b[0m     \u001b[0mmine\u001b[0m\u001b[1;33m=\u001b[0m\u001b[0minput\u001b[0m\u001b[1;33m(\u001b[0m\u001b[1;34m'가위바위보 시작~'\u001b[0m\u001b[1;33m)\u001b[0m\u001b[1;33m\u001b[0m\u001b[1;33m\u001b[0m\u001b[0m\n\u001b[0;32m     12\u001b[0m \u001b[1;33m\u001b[0m\u001b[0m\n\u001b[1;32m---> 13\u001b[1;33m     \u001b[0mx\u001b[0m\u001b[1;33m=\u001b[0m\u001b[0mrandom\u001b[0m\u001b[1;33m.\u001b[0m\u001b[0mchoice\u001b[0m\u001b[1;33m(\u001b[0m\u001b[0moption\u001b[0m\u001b[1;33m)\u001b[0m\u001b[1;33m\u001b[0m\u001b[1;33m\u001b[0m\u001b[0m\n\u001b[0m\u001b[0;32m     14\u001b[0m \u001b[1;33m\u001b[0m\u001b[0m\n\u001b[0;32m     15\u001b[0m     \u001b[1;32mif\u001b[0m \u001b[0moption\u001b[0m\u001b[1;33m[\u001b[0m\u001b[0mmine\u001b[0m\u001b[1;33m]\u001b[0m\u001b[1;33m-\u001b[0m\u001b[0mx\u001b[0m \u001b[1;33m==\u001b[0m \u001b[1;36m0\u001b[0m\u001b[1;33m:\u001b[0m\u001b[1;33m\u001b[0m\u001b[1;33m\u001b[0m\u001b[0m\n",
      "\u001b[1;32m~\\Anaconda3\\lib\\random.py\u001b[0m in \u001b[0;36mchoice\u001b[1;34m(self, seq)\u001b[0m\n\u001b[0;32m    260\u001b[0m         \u001b[1;32mexcept\u001b[0m \u001b[0mValueError\u001b[0m\u001b[1;33m:\u001b[0m\u001b[1;33m\u001b[0m\u001b[1;33m\u001b[0m\u001b[0m\n\u001b[0;32m    261\u001b[0m             \u001b[1;32mraise\u001b[0m \u001b[0mIndexError\u001b[0m\u001b[1;33m(\u001b[0m\u001b[1;34m'Cannot choose from an empty sequence'\u001b[0m\u001b[1;33m)\u001b[0m \u001b[1;32mfrom\u001b[0m \u001b[1;32mNone\u001b[0m\u001b[1;33m\u001b[0m\u001b[1;33m\u001b[0m\u001b[0m\n\u001b[1;32m--> 262\u001b[1;33m         \u001b[1;32mreturn\u001b[0m \u001b[0mseq\u001b[0m\u001b[1;33m[\u001b[0m\u001b[0mi\u001b[0m\u001b[1;33m]\u001b[0m\u001b[1;33m\u001b[0m\u001b[1;33m\u001b[0m\u001b[0m\n\u001b[0m\u001b[0;32m    263\u001b[0m \u001b[1;33m\u001b[0m\u001b[0m\n\u001b[0;32m    264\u001b[0m     \u001b[1;32mdef\u001b[0m \u001b[0mshuffle\u001b[0m\u001b[1;33m(\u001b[0m\u001b[0mself\u001b[0m\u001b[1;33m,\u001b[0m \u001b[0mx\u001b[0m\u001b[1;33m,\u001b[0m \u001b[0mrandom\u001b[0m\u001b[1;33m=\u001b[0m\u001b[1;32mNone\u001b[0m\u001b[1;33m)\u001b[0m\u001b[1;33m:\u001b[0m\u001b[1;33m\u001b[0m\u001b[1;33m\u001b[0m\u001b[0m\n",
      "\u001b[1;31mKeyError\u001b[0m: 2"
     ]
    }
   ],
   "source": [
    "RCP()"
   ]
  },
  {
   "cell_type": "code",
   "execution_count": 66,
   "metadata": {},
   "outputs": [
    {
     "ename": "TypeError",
     "evalue": "'dict_values' object is not subscriptable",
     "output_type": "error",
     "traceback": [
      "\u001b[1;31m---------------------------------------------------------------------------\u001b[0m",
      "\u001b[1;31mTypeError\u001b[0m                                 Traceback (most recent call last)",
      "\u001b[1;32m<ipython-input-66-7ea544e99bc6>\u001b[0m in \u001b[0;36m<module>\u001b[1;34m\u001b[0m\n\u001b[0;32m      1\u001b[0m \u001b[0moption\u001b[0m\u001b[1;33m=\u001b[0m\u001b[1;33m{\u001b[0m\u001b[1;34m'가위'\u001b[0m\u001b[1;33m:\u001b[0m\u001b[1;36m3\u001b[0m\u001b[1;33m,\u001b[0m\u001b[1;34m'바위'\u001b[0m\u001b[1;33m:\u001b[0m\u001b[1;36m1\u001b[0m\u001b[1;33m,\u001b[0m\u001b[1;34m'보'\u001b[0m\u001b[1;33m:\u001b[0m\u001b[1;36m2\u001b[0m\u001b[1;33m}\u001b[0m\u001b[1;33m\u001b[0m\u001b[1;33m\u001b[0m\u001b[0m\n\u001b[0;32m      2\u001b[0m \u001b[1;33m\u001b[0m\u001b[0m\n\u001b[1;32m----> 3\u001b[1;33m \u001b[0mx\u001b[0m\u001b[1;33m=\u001b[0m\u001b[0mrandom\u001b[0m\u001b[1;33m.\u001b[0m\u001b[0mchoice\u001b[0m\u001b[1;33m(\u001b[0m\u001b[0moption\u001b[0m\u001b[1;33m.\u001b[0m\u001b[0mvalues\u001b[0m\u001b[1;33m(\u001b[0m\u001b[1;33m)\u001b[0m\u001b[1;33m)\u001b[0m\u001b[1;33m\u001b[0m\u001b[1;33m\u001b[0m\u001b[0m\n\u001b[0m",
      "\u001b[1;32m~\\Anaconda3\\lib\\random.py\u001b[0m in \u001b[0;36mchoice\u001b[1;34m(self, seq)\u001b[0m\n\u001b[0;32m    260\u001b[0m         \u001b[1;32mexcept\u001b[0m \u001b[0mValueError\u001b[0m\u001b[1;33m:\u001b[0m\u001b[1;33m\u001b[0m\u001b[1;33m\u001b[0m\u001b[0m\n\u001b[0;32m    261\u001b[0m             \u001b[1;32mraise\u001b[0m \u001b[0mIndexError\u001b[0m\u001b[1;33m(\u001b[0m\u001b[1;34m'Cannot choose from an empty sequence'\u001b[0m\u001b[1;33m)\u001b[0m \u001b[1;32mfrom\u001b[0m \u001b[1;32mNone\u001b[0m\u001b[1;33m\u001b[0m\u001b[1;33m\u001b[0m\u001b[0m\n\u001b[1;32m--> 262\u001b[1;33m         \u001b[1;32mreturn\u001b[0m \u001b[0mseq\u001b[0m\u001b[1;33m[\u001b[0m\u001b[0mi\u001b[0m\u001b[1;33m]\u001b[0m\u001b[1;33m\u001b[0m\u001b[1;33m\u001b[0m\u001b[0m\n\u001b[0m\u001b[0;32m    263\u001b[0m \u001b[1;33m\u001b[0m\u001b[0m\n\u001b[0;32m    264\u001b[0m     \u001b[1;32mdef\u001b[0m \u001b[0mshuffle\u001b[0m\u001b[1;33m(\u001b[0m\u001b[0mself\u001b[0m\u001b[1;33m,\u001b[0m \u001b[0mx\u001b[0m\u001b[1;33m,\u001b[0m \u001b[0mrandom\u001b[0m\u001b[1;33m=\u001b[0m\u001b[1;32mNone\u001b[0m\u001b[1;33m)\u001b[0m\u001b[1;33m:\u001b[0m\u001b[1;33m\u001b[0m\u001b[1;33m\u001b[0m\u001b[0m\n",
      "\u001b[1;31mTypeError\u001b[0m: 'dict_values' object is not subscriptable"
     ]
    }
   ],
   "source": [
    "option={'가위':3,'바위':1,'보':2}\n",
    "\n",
    "x=random.choice(option.values())"
   ]
  },
  {
   "cell_type": "code",
   "execution_count": 78,
   "metadata": {},
   "outputs": [
    {
     "name": "stdout",
     "output_type": "stream",
     "text": [
      "55\n",
      "55\n"
     ]
    }
   ],
   "source": [
    "# 1~10 합계\n",
    "x=[]\n",
    "\n",
    "for i in range(11):\n",
    "    x.append(i)\n",
    "print(sum(x))\n",
    "\n",
    "\n",
    "\n",
    "\n",
    "y=0\n",
    "z=[]\n",
    "\n",
    "while y<=10:\n",
    "    \n",
    "    z.append(y)\n",
    "    y+=1\n",
    "\n",
    "print(sum(z))\n"
   ]
  },
  {
   "cell_type": "code",
   "execution_count": 86,
   "metadata": {},
   "outputs": [
    {
     "name": "stdout",
     "output_type": "stream",
     "text": [
      "['o', 'u', 'a', 'i', 'o', 'a', 'i', 'i']\n"
     ]
    }
   ],
   "source": [
    "list1='computational thinking'\n",
    "\n",
    "split_list1=[]\n",
    "\n",
    "list2=['a','e','i','o','u']\n",
    "\n",
    "for i in range(len(list1)):\n",
    "    \n",
    "    if list1[i] in list2:\n",
    "        \n",
    "        split_list1.append(list1[i])\n",
    "\n",
    "print(split_list1)"
   ]
  },
  {
   "cell_type": "code",
   "execution_count": 19,
   "metadata": {},
   "outputs": [
    {
     "data": {
      "text/plain": [
       "[]"
      ]
     },
     "execution_count": 19,
     "metadata": {},
     "output_type": "execute_result"
    }
   ],
   "source": [
    "[x for x in range(10)]"
   ]
  },
  {
   "cell_type": "code",
   "execution_count": 6,
   "metadata": {},
   "outputs": [
    {
     "name": "stdout",
     "output_type": "stream",
     "text": [
      "[(0, 5), (0, 6), (0, 7), (0, 8), (0, 9), (0, 10), (1, 5), (1, 6), (1, 7), (1, 8), (1, 9), (1, 10), (2, 5), (2, 6), (2, 7), (2, 8), (2, 9), (2, 10), (3, 5), (3, 6), (3, 7), (3, 8), (3, 9), (3, 10), (4, 5), (4, 6), (4, 7), (4, 8), (4, 9), (4, 10)]\n",
      "[(0, 5), (0, 6), (0, 7), (0, 8), (0, 9), (0, 10), (1, 5), (1, 6), (1, 7), (1, 8), (1, 9), (1, 10), (2, 5), (2, 6), (2, 7), (2, 8), (2, 9), (2, 10), (3, 5), (3, 6), (3, 7), (3, 8), (3, 9), (3, 10), (4, 5), (4, 6), (4, 7), (4, 8), (4, 9), (4, 10)]\n"
     ]
    }
   ],
   "source": [
    "x=[0,1,2,3,4]\n",
    "y=[5,6,7,8,9,10]\n",
    "z=[]\n",
    "\n",
    "\n",
    "for i in x:\n",
    "    for l in y:\n",
    "        \n",
    "        z+=[(i,l)]\n",
    "print(z)\n",
    " \n",
    "print([(i,j) for i in x for j in y]) #list comprehension, 실제 현업에서 많이 씀"
   ]
  },
  {
   "cell_type": "code",
   "execution_count": 4,
   "metadata": {},
   "outputs": [
    {
     "name": "stdout",
     "output_type": "stream",
     "text": [
      "[0, 2, 4, 6, 8, 10]\n"
     ]
    },
    {
     "data": {
      "text/plain": [
       "[0, 2, 4, 6, 8]"
      ]
     },
     "execution_count": 4,
     "metadata": {},
     "output_type": "execute_result"
    }
   ],
   "source": [
    "x=0\n",
    "q=[]\n",
    "while x<11:\n",
    "    \n",
    "    if x%2==0:\n",
    "        q.append(x)\n",
    "    x+=1\n",
    "    \n",
    "print(q)\n",
    "    \n",
    "[ x for x in range(10) if x%2 == 0 ]"
   ]
  },
  {
   "cell_type": "code",
   "execution_count": 60,
   "metadata": {},
   "outputs": [
    {
     "name": "stdout",
     "output_type": "stream",
     "text": [
      "['UNTITLED1LAST', 'untitled1last', 13, 'CHECKPOINT:', 'checkpoint:', 11, '6시간', '6시간', 3, '전(UNSAVED', '전(unsaved', 9, 'CHANGES)', 'changes)', 8]\n"
     ]
    }
   ],
   "source": [
    "usage='Untitled1Last Checkpoint: 6시간 전(unsaved changes)'\n",
    "\n",
    "A=usage.split()\n",
    "    \n",
    "B=[]\n",
    "    \n",
    "for i in A:\n",
    "        \n",
    "    B += (i.upper(), i.lower(), len(i))\n",
    "    \n",
    "print(B)"
   ]
  },
  {
   "cell_type": "code",
   "execution_count": 27,
   "metadata": {},
   "outputs": [
    {
     "name": "stdout",
     "output_type": "stream",
     "text": [
      "[5, 6, 7]\n"
     ]
    }
   ],
   "source": [
    "# 1에서 10까지의 숫자에서 for문과 continue와 break를 활용\n",
    "a=[]\n",
    "for i in range(1,11):\n",
    "    \n",
    "    if i>7:\n",
    "        ss\n",
    "        break\n",
    "        \n",
    "    if i >4:\n",
    "        \n",
    "        a.append(i)\n",
    "        \n",
    "print(a)"
   ]
  },
  {
   "cell_type": "code",
   "execution_count": 59,
   "metadata": {},
   "outputs": [
    {
     "name": "stdout",
     "output_type": "stream",
     "text": [
      "점수를 입력해주세요10\n",
      "점수를 입력해주세요20\n",
      "점수를 입력해주세요30\n",
      "점수를 입력해주세요40\n",
      "점수를 입력해주세요50\n",
      "30.0\n"
     ]
    }
   ],
   "source": [
    "# 5과목의 점수의 평균을 계산, 5과목의 점수를 5번 받는다\n",
    "\n",
    "\n",
    "\n",
    "total=0\n",
    "count=1\n",
    "x=[]\n",
    "score=[]\n",
    "    \n",
    "while count <6:\n",
    "        \n",
    "    score= int(input('점수를 입력해주세요'))\n",
    "        \n",
    "    x.append(score)\n",
    "        \n",
    "    count+=1\n",
    "        \n",
    "print((sum(x)) /(len(x)))"
   ]
  },
  {
   "cell_type": "code",
   "execution_count": 38,
   "metadata": {},
   "outputs": [
    {
     "name": "stdout",
     "output_type": "stream",
     "text": [
      "Enter number: 45\n",
      "45! is 119622220865480194561963161495657715064383733760000000000\n"
     ]
    }
   ],
   "source": [
    "num=int(input('Enter number: '))\n",
    "\n",
    "result=1\n",
    "x=num\n",
    "\n",
    "while x>0:\n",
    "    \n",
    "    result= result*x\n",
    "    \n",
    "    x-=1\n",
    "    \n",
    "print(str(num)+\"! is \"+str(result))\n",
    "    \n",
    "    \n",
    "    "
   ]
  },
  {
   "cell_type": "code",
   "execution_count": 62,
   "metadata": {},
   "outputs": [
    {
     "name": "stdout",
     "output_type": "stream",
     "text": [
      "Enter number: 10\n",
      "10! is 3628800\n"
     ]
    }
   ],
   "source": [
    "num=int(input('Enter number: '))\n",
    "\n",
    "result=1\n",
    "x=num\n",
    "\n",
    "for x in range(1,num+1):\n",
    "    \n",
    "    result*= x\n",
    "    \n",
    "    x-=1\n",
    "    \n",
    "print(str(num)+\"! is \"+str(result))\n",
    "    "
   ]
  },
  {
   "cell_type": "code",
   "execution_count": 69,
   "metadata": {},
   "outputs": [
    {
     "name": "stdout",
     "output_type": "stream",
     "text": [
      "1\n",
      "3\n",
      "5\n"
     ]
    }
   ],
   "source": [
    "scope=[1,2,3,4,5]\n",
    "\n",
    "[x for x in scope if x%2 ==1]\n",
    "\n",
    "for i in scope:\n",
    "    \n",
    "    if i%2 == 0:\n",
    "        \n",
    "        continue\n",
    "        \n",
    "    print(i)"
   ]
  },
  {
   "cell_type": "code",
   "execution_count": 80,
   "metadata": {},
   "outputs": [
    {
     "name": "stdout",
     "output_type": "stream",
     "text": [
      "10\n"
     ]
    },
    {
     "data": {
      "text/plain": [
       "'10(을)를 짝수와 홀수로 나누었을 때, 짝수의 총 합은0, 홀수의 총 합은0'"
      ]
     },
     "execution_count": 80,
     "metadata": {},
     "output_type": "execute_result"
    }
   ],
   "source": [
    "\n",
    "n=int(input())\n",
    "\n",
    "while n <0:\n",
    "    \n",
    "    global x\n",
    "    global y\n",
    "    \n",
    "    x=[]\n",
    "    y=[]\n",
    "    \n",
    "    if n%2==0:\n",
    "        \n",
    "        x.append(n)\n",
    "        \n",
    "    else:\n",
    "        \n",
    "        y.append(n)\n",
    "    \n",
    "    n -= 1\n",
    "\n",
    "comment=\"{0}(을)를 짝수와 홀수로 나누었을 때, 짝수의 총 합은{1}, 홀수의 총 합은{2}\"\n",
    "\n",
    "comment.format(n,sum(x),sum(y))\n",
    "\n",
    "        "
   ]
  },
  {
   "cell_type": "code",
   "execution_count": 81,
   "metadata": {},
   "outputs": [],
   "source": [
    "L= [70,100,80,60,90]\n",
    "\n",
    "nMin = nMax =L[0]\n",
    "\n"
   ]
  },
  {
   "cell_type": "code",
   "execution_count": 85,
   "metadata": {},
   "outputs": [
    {
     "name": "stdout",
     "output_type": "stream",
     "text": [
      "1x1= 1 1x2= 2 1x3= 3 1x4= 4 1x5= 5 1x6= 6 1x7= 7 1x8= 8 1x9= 9 2x1= 2 2x2= 4 2x3= 6 2x4= 8 2x5=10 2x6=12 2x7=14 2x8=16 2x9=18 3x1= 3 3x2= 6 3x3= 9 3x4=12 3x5=15 3x6=18 3x7=21 3x8=24 3x9=27 4x1= 4 4x2= 8 4x3=12 4x4=16 4x5=20 4x6=24 4x7=28 4x8=32 4x9=36 5x1= 5 5x2=10 5x3=15 5x4=20 5x5=25 5x6=30 5x7=35 5x8=40 5x9=45 6x1= 6 6x2=12 6x3=18 6x4=24 6x5=30 6x6=36 6x7=42 6x8=48 6x9=54 7x1= 7 7x2=14 7x3=21 7x4=28 7x5=35 7x6=42 7x7=49 7x8=56 7x9=63 8x1= 8 8x2=16 8x3=24 8x4=32 8x5=40 8x6=48 8x7=56 8x8=64 8x9=72 9x1= 9 9x2=18 9x3=27 9x4=36 9x5=45 9x6=54 9x7=63 9x8=72 9x9=81 "
     ]
    }
   ],
   "source": [
    "for x in range(1,10):\n",
    "    \n",
    "    for y in range(1,10):\n",
    "        \n",
    "        print('{}x{}={:>2}'.format(x, y, x*y),end=' ')\n",
    "        \n",
    "## 구구단 출력"
   ]
  },
  {
   "cell_type": "code",
   "execution_count": 42,
   "metadata": {},
   "outputs": [
    {
     "name": "stdout",
     "output_type": "stream",
     "text": [
      "양의 정수410\n"
     ]
    }
   ],
   "source": [
    "n= int(input('양의 정수'))\n",
    "\n",
    "a=n\n",
    "\n",
    "while n<0:\n",
    "    \n",
    "    if a%n ==0:\n",
    "        \n",
    "        dum.append(n)\n",
    "        \n",
    "        print(dum)\n",
    "        \n",
    "        n-=1\n",
    "        \n",
    "    elif a%n !=0 :\n",
    "        \n",
    "        n-=1\n",
    "        "
   ]
  },
  {
   "cell_type": "code",
   "execution_count": 18,
   "metadata": {},
   "outputs": [
    {
     "name": "stdout",
     "output_type": "stream",
     "text": [
      "양의 정수12\n"
     ]
    }
   ],
   "source": [
    "n= int(input('양의 정수'))"
   ]
  },
  {
   "cell_type": "code",
   "execution_count": 22,
   "metadata": {},
   "outputs": [
    {
     "name": "stdout",
     "output_type": "stream",
     "text": [
      "\n",
      "*\n",
      "**\n",
      "***\n",
      "****\n",
      "*****\n",
      "******\n",
      "*******\n",
      "********\n",
      "*********\n"
     ]
    }
   ],
   "source": [
    "for i in range(10):\n",
    "    \n",
    "    print('{}'.format(\"*\"*i))"
   ]
  },
  {
   "cell_type": "code",
   "execution_count": 27,
   "metadata": {},
   "outputs": [
    {
     "name": "stdout",
     "output_type": "stream",
     "text": [
      "**********\n",
      "*********\n",
      "********\n",
      "*******\n",
      "******\n",
      "*****\n",
      "****\n",
      "***\n",
      "**\n",
      "*\n"
     ]
    }
   ],
   "source": [
    "for i in range(10):\n",
    "    \n",
    "    print('{}'.format((\"*\"*(10-i))))"
   ]
  },
  {
   "cell_type": "code",
   "execution_count": 29,
   "metadata": {},
   "outputs": [
    {
     "name": "stdout",
     "output_type": "stream",
     "text": [
      "**********\n",
      " *********\n",
      "  ********\n",
      "   *******\n",
      "    ******\n",
      "     *****\n",
      "      ****\n",
      "       ***\n",
      "        **\n",
      "         *\n"
     ]
    }
   ],
   "source": [
    "for i in range(10):\n",
    "    \n",
    "    print('{}'.format((\"*\"*(10-i)).rjust(10)))"
   ]
  },
  {
   "cell_type": "code",
   "execution_count": 31,
   "metadata": {},
   "outputs": [
    {
     "name": "stdout",
     "output_type": "stream",
     "text": [
      "**********\n",
      "********* \n",
      "********  \n",
      "*******   \n",
      "******    \n",
      "*****     \n",
      "****      \n",
      "***       \n",
      "**        \n",
      "*         \n"
     ]
    }
   ],
   "source": [
    "for i in range(10):\n",
    "    \n",
    "    print('{}'.format((\"*\"*(10-i)).ljust(10)))"
   ]
  },
  {
   "cell_type": "code",
   "execution_count": 44,
   "metadata": {},
   "outputs": [
    {
     "name": "stdout",
     "output_type": "stream",
     "text": [
      "    *     \n",
      "   ***    \n",
      "  *****   \n",
      " *******  \n",
      "********* \n"
     ]
    }
   ],
   "source": [
    "for i in range(1,10,2):\n",
    "    \n",
    "    print('{:^10}'.format((\"*\"*(i))))"
   ]
  },
  {
   "cell_type": "markdown",
   "metadata": {},
   "source": [
    "### 시험 대비\n",
    "\n",
    "\n",
    "Text1=\"python programming\"\n",
    "\n",
    "g를 출력하시오\n",
    "\n",
    "pro를 출력하시오\n",
    "\n",
    "gram이 포함되어있는지 확인하시오\n",
    "\n",
    "모두 대문자로 바꾸세요\n",
    "\n",
    "p자의 개수를 출력하세요\n",
    "\n",
    "공백을 기준으로 분리하세요\n",
    "\n",
    "-를 기준으로 두단어를 연결하세요\n",
    "\n",
    "양쪽의 공백을 제거하세요\n",
    "\n",
    "python을 hello로 바꾸세요"
   ]
  },
  {
   "cell_type": "code",
   "execution_count": 53,
   "metadata": {},
   "outputs": [],
   "source": [
    "Text1=\" python programming \""
   ]
  },
  {
   "cell_type": "code",
   "execution_count": 54,
   "metadata": {},
   "outputs": [
    {
     "name": "stdout",
     "output_type": "stream",
     "text": [
      "g\n"
     ]
    }
   ],
   "source": [
    "print(Text1[-2])"
   ]
  },
  {
   "cell_type": "code",
   "execution_count": 55,
   "metadata": {},
   "outputs": [
    {
     "name": "stdout",
     "output_type": "stream",
     "text": [
      " pr\n"
     ]
    }
   ],
   "source": [
    "print(Text1[7:10])"
   ]
  },
  {
   "cell_type": "code",
   "execution_count": 56,
   "metadata": {},
   "outputs": [
    {
     "data": {
      "text/plain": [
       "True"
      ]
     },
     "execution_count": 56,
     "metadata": {},
     "output_type": "execute_result"
    }
   ],
   "source": [
    "'gram' in Text1"
   ]
  },
  {
   "cell_type": "code",
   "execution_count": 57,
   "metadata": {},
   "outputs": [
    {
     "data": {
      "text/plain": [
       "' PYTHON PROGRAMMING '"
      ]
     },
     "execution_count": 57,
     "metadata": {},
     "output_type": "execute_result"
    }
   ],
   "source": [
    "Text1.upper()"
   ]
  },
  {
   "cell_type": "code",
   "execution_count": 58,
   "metadata": {},
   "outputs": [
    {
     "data": {
      "text/plain": [
       "2"
      ]
     },
     "execution_count": 58,
     "metadata": {},
     "output_type": "execute_result"
    }
   ],
   "source": [
    "Text1.count('p')"
   ]
  },
  {
   "cell_type": "code",
   "execution_count": 59,
   "metadata": {},
   "outputs": [
    {
     "data": {
      "text/plain": [
       "['python', 'programming']"
      ]
     },
     "execution_count": 59,
     "metadata": {},
     "output_type": "execute_result"
    }
   ],
   "source": [
    "Text1.split()"
   ]
  },
  {
   "cell_type": "code",
   "execution_count": 60,
   "metadata": {},
   "outputs": [
    {
     "data": {
      "text/plain": [
       "'python-programming'"
      ]
     },
     "execution_count": 60,
     "metadata": {},
     "output_type": "execute_result"
    }
   ],
   "source": [
    "\"-\".join(Text1.split())"
   ]
  },
  {
   "cell_type": "code",
   "execution_count": 61,
   "metadata": {},
   "outputs": [
    {
     "data": {
      "text/plain": [
       "' python programming'"
      ]
     },
     "execution_count": 61,
     "metadata": {},
     "output_type": "execute_result"
    }
   ],
   "source": [
    "Text1.rstrip()    # Rstrip, lstrip 존재(오른쪽 공백제거, 왼쪽 공백제거)"
   ]
  },
  {
   "cell_type": "code",
   "execution_count": 62,
   "metadata": {},
   "outputs": [
    {
     "data": {
      "text/plain": [
       "'python programming '"
      ]
     },
     "execution_count": 62,
     "metadata": {},
     "output_type": "execute_result"
    }
   ],
   "source": [
    "Text1.lstrip()    # Rstrip, lstrip 존재(오른쪽 공백제거, 왼쪽 공백제거)"
   ]
  },
  {
   "cell_type": "code",
   "execution_count": 63,
   "metadata": {},
   "outputs": [
    {
     "data": {
      "text/plain": [
       "'python programming'"
      ]
     },
     "execution_count": 63,
     "metadata": {},
     "output_type": "execute_result"
    }
   ],
   "source": [
    "Text1.strip()    # Rstrip, lstrip 존재(오른쪽 공백제거, 왼쪽 공백제거)"
   ]
  },
  {
   "cell_type": "code",
   "execution_count": 64,
   "metadata": {},
   "outputs": [
    {
     "data": {
      "text/plain": [
       "' hello programming '"
      ]
     },
     "execution_count": 64,
     "metadata": {},
     "output_type": "execute_result"
    }
   ],
   "source": [
    "Text1.replace(\"python\",\"hello\")"
   ]
  },
  {
   "cell_type": "code",
   "execution_count": 65,
   "metadata": {},
   "outputs": [],
   "source": [
    "## list"
   ]
  },
  {
   "cell_type": "code",
   "execution_count": 66,
   "metadata": {},
   "outputs": [],
   "source": [
    "solarsys=['태양','수성','금성','지구','화성','목성','지구']\n",
    "solarsys1=['토성','천왕성','해왕성']\n",
    "planet='지구'"
   ]
  },
  {
   "cell_type": "code",
   "execution_count": 67,
   "metadata": {},
   "outputs": [
    {
     "name": "stdout",
     "output_type": "stream",
     "text": [
      "['수성', '금성', '지구']\n"
     ]
    }
   ],
   "source": [
    "# solarsys에서 수성 금성 지구 를 출력\n",
    "\n",
    "print(solarsys[1:4])"
   ]
  },
  {
   "cell_type": "code",
   "execution_count": 68,
   "metadata": {},
   "outputs": [
    {
     "data": {
      "text/plain": [
       "3"
      ]
     },
     "execution_count": 68,
     "metadata": {},
     "output_type": "execute_result"
    }
   ],
   "source": [
    "# solarsys에서 지구의 위치값 출력\n",
    "\n",
    "solarsys.index('지구')"
   ]
  },
  {
   "cell_type": "code",
   "execution_count": 69,
   "metadata": {
    "scrolled": true
   },
   "outputs": [
    {
     "name": "stdout",
     "output_type": "stream",
     "text": [
      "['태양', '수성', '금성', '지구', '해왕성', '목성', '지구']\n"
     ]
    }
   ],
   "source": [
    "# solarsys에서 화성을 해왕성으로 수정\n",
    "\n",
    "solarsys[4]=\"해왕성\"\n",
    "\n",
    "print(solarsys)"
   ]
  },
  {
   "cell_type": "code",
   "execution_count": 70,
   "metadata": {},
   "outputs": [
    {
     "name": "stdout",
     "output_type": "stream",
     "text": [
      "['태양', '수성명왕성', '금성', '지구', '해왕성', '목성', '지구']\n"
     ]
    }
   ],
   "source": [
    "#명왕성을 수성자리에 삽입\n",
    "\n",
    "solarsys[1]+='명왕성'\n",
    "\n",
    "print(solarsys)"
   ]
  },
  {
   "cell_type": "code",
   "execution_count": 71,
   "metadata": {},
   "outputs": [
    {
     "name": "stdout",
     "output_type": "stream",
     "text": [
      "['태양', '수성명왕성', '금성', '지구', '해왕성', '목성', '지구', '토성']\n"
     ]
    }
   ],
   "source": [
    "# 맨 끝에 토성 삽입\n",
    "\n",
    "solarsys.append(\"토성\")\n",
    "\n",
    "print(solarsys)"
   ]
  },
  {
   "cell_type": "code",
   "execution_count": 72,
   "metadata": {},
   "outputs": [
    {
     "data": {
      "text/plain": [
       "'토성'"
      ]
     },
     "execution_count": 72,
     "metadata": {},
     "output_type": "execute_result"
    }
   ],
   "source": [
    "# 맨 끝 요소를 제거하고 리턴\n",
    "\n",
    "solarsys.pop()\n"
   ]
  },
  {
   "cell_type": "code",
   "execution_count": 73,
   "metadata": {},
   "outputs": [
    {
     "name": "stdout",
     "output_type": "stream",
     "text": [
      "['태양', '수성명왕성', '지구', '해왕성', '목성', '지구']\n"
     ]
    }
   ],
   "source": [
    "# 금성 제거\n",
    "\n",
    "solarsys.remove('금성')\n",
    "\n",
    "print(solarsys)"
   ]
  },
  {
   "cell_type": "code",
   "execution_count": 74,
   "metadata": {},
   "outputs": [],
   "source": [
    "# solarsys에서 1번째 에서 3번째까지 삭제\n",
    "\n",
    "del solarsys[1:4]"
   ]
  },
  {
   "cell_type": "code",
   "execution_count": 75,
   "metadata": {},
   "outputs": [
    {
     "data": {
      "text/plain": [
       "'지구'"
      ]
     },
     "execution_count": 75,
     "metadata": {},
     "output_type": "execute_result"
    }
   ],
   "source": [
    "# 인덱스값이 2인 원소 제거\n",
    "\n",
    "solarsys.pop(2)"
   ]
  },
  {
   "cell_type": "code",
   "execution_count": 76,
   "metadata": {},
   "outputs": [
    {
     "data": {
      "text/plain": [
       "['태양', '목성', '토성', '천왕성', '해왕성']"
      ]
     },
     "execution_count": 76,
     "metadata": {},
     "output_type": "execute_result"
    }
   ],
   "source": [
    "# solarsys 와 solarsys1 합치기\n",
    "\n",
    "solarsys.extend(solarsys1)\n",
    "\n",
    "solarsys"
   ]
  },
  {
   "cell_type": "code",
   "execution_count": 77,
   "metadata": {},
   "outputs": [
    {
     "name": "stdout",
     "output_type": "stream",
     "text": [
      "['목성', '천왕성', '태양', '토성', '해왕성']\n"
     ]
    }
   ],
   "source": [
    "#  오름차순 정렬\n",
    "\n",
    "solarsys.sort()\n",
    "\n",
    "print(solarsys)"
   ]
  },
  {
   "cell_type": "code",
   "execution_count": 78,
   "metadata": {},
   "outputs": [
    {
     "name": "stdout",
     "output_type": "stream",
     "text": [
      "['해왕성', '토성', '태양', '천왕성', '목성']\n"
     ]
    }
   ],
   "source": [
    "#내림차순 정렬\n",
    "solarsys.sort(reverse=True)\n",
    "\n",
    "print(solarsys)"
   ]
  },
  {
   "cell_type": "code",
   "execution_count": 79,
   "metadata": {},
   "outputs": [
    {
     "name": "stdout",
     "output_type": "stream",
     "text": [
      "['목성', '천왕성', '태양', '토성', '해왕성']\n"
     ]
    }
   ],
   "source": [
    "#인덱스값 반대로 하기\n",
    "solarsys.reverse()\n",
    "\n",
    "print(solarsys)"
   ]
  },
  {
   "cell_type": "code",
   "execution_count": 80,
   "metadata": {},
   "outputs": [
    {
     "data": {
      "text/plain": [
       "False"
      ]
     },
     "execution_count": 80,
     "metadata": {},
     "output_type": "execute_result"
    }
   ],
   "source": [
    "# 만리장성이 원소에 있는지 확인\n",
    "\n",
    "'만리장성' in solarsys"
   ]
  },
  {
   "cell_type": "code",
   "execution_count": 81,
   "metadata": {},
   "outputs": [
    {
     "data": {
      "text/plain": [
       "['목성',\n",
       " '천왕성',\n",
       " '태양',\n",
       " '토성',\n",
       " '해왕성',\n",
       " '목성',\n",
       " '천왕성',\n",
       " '태양',\n",
       " '토성',\n",
       " '해왕성',\n",
       " '목성',\n",
       " '천왕성',\n",
       " '태양',\n",
       " '토성',\n",
       " '해왕성']"
      ]
     },
     "execution_count": 81,
     "metadata": {},
     "output_type": "execute_result"
    }
   ],
   "source": [
    "# 3번 반복\n",
    "\n",
    "solarsys*3"
   ]
  },
  {
   "cell_type": "code",
   "execution_count": 82,
   "metadata": {},
   "outputs": [
    {
     "data": {
      "text/plain": [
       "5"
      ]
     },
     "execution_count": 82,
     "metadata": {},
     "output_type": "execute_result"
    }
   ],
   "source": [
    "# solarsys 길이 리턴\n",
    "\n",
    "len(solarsys)"
   ]
  },
  {
   "cell_type": "code",
   "execution_count": 83,
   "metadata": {},
   "outputs": [
    {
     "data": {
      "text/plain": [
       "0"
      ]
     },
     "execution_count": 83,
     "metadata": {},
     "output_type": "execute_result"
    }
   ],
   "source": [
    "#solarsys 에서 지구의 갯수 출력\n",
    "\n",
    "solarsys.count('지구')"
   ]
  },
  {
   "cell_type": "code",
   "execution_count": 84,
   "metadata": {},
   "outputs": [],
   "source": [
    "# 모든 원소 제거\n",
    "\n",
    "solarsys.clear()"
   ]
  },
  {
   "cell_type": "code",
   "execution_count": 85,
   "metadata": {},
   "outputs": [],
   "source": [
    "# 리스트 자체를 소거\n",
    "\n",
    "del solarsys"
   ]
  },
  {
   "cell_type": "markdown",
   "metadata": {},
   "source": [
    "### 딕셔너리"
   ]
  },
  {
   "cell_type": "code",
   "execution_count": 160,
   "metadata": {},
   "outputs": [
    {
     "data": {
      "text/plain": [
       "dict"
      ]
     },
     "execution_count": 160,
     "metadata": {},
     "output_type": "execute_result"
    }
   ],
   "source": [
    "# 딕셔너리\n",
    "\n",
    "mydict={}\n",
    "\n",
    "type(mydict)"
   ]
  },
  {
   "cell_type": "code",
   "execution_count": 161,
   "metadata": {},
   "outputs": [
    {
     "name": "stdout",
     "output_type": "stream",
     "text": [
      "{'red': 1, 'blue': 3, 'green': 4}\n"
     ]
    }
   ],
   "source": [
    "# 요소 추가\n",
    "\n",
    "mydict[\"red\"]=1\n",
    "mydict[\"blue\"]=3\n",
    "mydict[\"green\"]=4\n",
    "\n",
    "print(mydict)"
   ]
  },
  {
   "cell_type": "code",
   "execution_count": 162,
   "metadata": {},
   "outputs": [
    {
     "name": "stdout",
     "output_type": "stream",
     "text": [
      "{'red': 1, 'blue': 3, 'green': 7}\n"
     ]
    }
   ],
   "source": [
    "# Value 수정\n",
    "\n",
    "mydict[\"green\"]=7\n",
    "\n",
    "print(mydict)"
   ]
  },
  {
   "cell_type": "code",
   "execution_count": 163,
   "metadata": {},
   "outputs": [
    {
     "data": {
      "text/plain": [
       "True"
      ]
     },
     "execution_count": 163,
     "metadata": {},
     "output_type": "execute_result"
    }
   ],
   "source": [
    "# 인자 확인\n",
    "\n",
    "'blue' in mydict "
   ]
  },
  {
   "cell_type": "code",
   "execution_count": 164,
   "metadata": {},
   "outputs": [
    {
     "data": {
      "text/plain": [
       "3"
      ]
     },
     "execution_count": 164,
     "metadata": {},
     "output_type": "execute_result"
    }
   ],
   "source": [
    "# 원소 길이 확보\n",
    "len(mydict)"
   ]
  },
  {
   "cell_type": "code",
   "execution_count": 165,
   "metadata": {},
   "outputs": [
    {
     "name": "stdout",
     "output_type": "stream",
     "text": [
      "{'red': 1, 'blue': 3, 'green': 7}\n"
     ]
    }
   ],
   "source": [
    "# 사전 복제\n",
    "\n",
    "mydict2=mydict.copy()\n",
    "\n",
    "print(mydict)"
   ]
  },
  {
   "cell_type": "code",
   "execution_count": 166,
   "metadata": {},
   "outputs": [
    {
     "data": {
      "text/plain": [
       "1"
      ]
     },
     "execution_count": 166,
     "metadata": {},
     "output_type": "execute_result"
    }
   ],
   "source": [
    "# key값을 토대로 value 값 가져옴\n",
    "\n",
    "mydict.get('red')"
   ]
  },
  {
   "cell_type": "code",
   "execution_count": 167,
   "metadata": {},
   "outputs": [
    {
     "data": {
      "text/plain": [
       "list"
      ]
     },
     "execution_count": 167,
     "metadata": {},
     "output_type": "execute_result"
    }
   ],
   "source": [
    "#사전의 키값만 가지고옴\n",
    "\n",
    "type(list(mydict.keys()))"
   ]
  },
  {
   "cell_type": "code",
   "execution_count": 168,
   "metadata": {},
   "outputs": [
    {
     "data": {
      "text/plain": [
       "[1, 3, 7]"
      ]
     },
     "execution_count": 168,
     "metadata": {},
     "output_type": "execute_result"
    }
   ],
   "source": [
    "#사전의 벨류값만 가져옴\n",
    "list(mydict.values())"
   ]
  },
  {
   "cell_type": "code",
   "execution_count": 169,
   "metadata": {},
   "outputs": [
    {
     "data": {
      "text/plain": [
       "dict_items([('red', 1), ('blue', 3), ('green', 7)])"
      ]
     },
     "execution_count": 169,
     "metadata": {},
     "output_type": "execute_result"
    }
   ],
   "source": [
    "#튜플 쌍으로 각 요소 출력\n",
    "\n",
    "mydict.items()"
   ]
  },
  {
   "cell_type": "code",
   "execution_count": 170,
   "metadata": {},
   "outputs": [
    {
     "data": {
      "text/plain": [
       "5"
      ]
     },
     "execution_count": 170,
     "metadata": {},
     "output_type": "execute_result"
    }
   ],
   "source": [
    "# key black의 value 값을 출력하고 없으면 그대로 입력하는 것\n",
    "\n",
    "mydict.setdefault('black',5)"
   ]
  },
  {
   "cell_type": "code",
   "execution_count": 173,
   "metadata": {},
   "outputs": [
    {
     "data": {
      "text/plain": [
       "[('black', 5), ('blue', 3), ('green', 7), ('red', 1)]"
      ]
     },
     "execution_count": 173,
     "metadata": {},
     "output_type": "execute_result"
    }
   ],
   "source": [
    "# key 기준 정렬\n",
    "\n",
    "sorted(mydict.items())"
   ]
  },
  {
   "cell_type": "code",
   "execution_count": 129,
   "metadata": {},
   "outputs": [
    {
     "data": {
      "text/plain": [
       "[('red', 1), ('blue', 3), ('black', 5), ('green', 7)]"
      ]
     },
     "execution_count": 129,
     "metadata": {},
     "output_type": "execute_result"
    }
   ],
   "source": [
    "# value 기준 정렬\n",
    "\n",
    "sorted(mydict.items(),key=lambda x:x[1])"
   ]
  },
  {
   "cell_type": "code",
   "execution_count": 130,
   "metadata": {},
   "outputs": [
    {
     "name": "stdout",
     "output_type": "stream",
     "text": [
      "{'red': 1, 'green': 7, 'black': 5}\n"
     ]
    }
   ],
   "source": [
    "# 키 blue 및 value 삭제\n",
    "\n",
    "del mydict['blue']\n",
    "\n",
    "print(mydict)"
   ]
  },
  {
   "cell_type": "code",
   "execution_count": 131,
   "metadata": {},
   "outputs": [
    {
     "ename": "KeyError",
     "evalue": "'blue'",
     "output_type": "error",
     "traceback": [
      "\u001b[1;31m---------------------------------------------------------------------------\u001b[0m",
      "\u001b[1;31mKeyError\u001b[0m                                  Traceback (most recent call last)",
      "\u001b[1;32m<ipython-input-131-d5fdfe0f762a>\u001b[0m in \u001b[0;36m<module>\u001b[1;34m\u001b[0m\n\u001b[0;32m      1\u001b[0m \u001b[1;31m# blue의 key, value 삭제 및 value 값 도출\u001b[0m\u001b[1;33m\u001b[0m\u001b[1;33m\u001b[0m\u001b[1;33m\u001b[0m\u001b[0m\n\u001b[0;32m      2\u001b[0m \u001b[1;33m\u001b[0m\u001b[0m\n\u001b[1;32m----> 3\u001b[1;33m \u001b[0mmydict\u001b[0m\u001b[1;33m.\u001b[0m\u001b[0mpop\u001b[0m\u001b[1;33m(\u001b[0m\u001b[1;34m'blue'\u001b[0m\u001b[1;33m)\u001b[0m\u001b[1;33m\u001b[0m\u001b[1;33m\u001b[0m\u001b[0m\n\u001b[0m",
      "\u001b[1;31mKeyError\u001b[0m: 'blue'"
     ]
    }
   ],
   "source": [
    "# blue의 key, value 삭제 및 value 값 도출\n",
    "mydict.pop('blue')"
   ]
  },
  {
   "cell_type": "code",
   "execution_count": 132,
   "metadata": {
    "scrolled": true
   },
   "outputs": [
    {
     "name": "stdout",
     "output_type": "stream",
     "text": [
      "{'red': 1, 'green': 7, 'black': 5}\n"
     ]
    }
   ],
   "source": [
    "print(mydict)"
   ]
  },
  {
   "cell_type": "code",
   "execution_count": 133,
   "metadata": {},
   "outputs": [
    {
     "name": "stdout",
     "output_type": "stream",
     "text": [
      "{}\n"
     ]
    }
   ],
   "source": [
    "mydict.clear()\n",
    "\n",
    "print(mydict)"
   ]
  },
  {
   "cell_type": "code",
   "execution_count": 134,
   "metadata": {},
   "outputs": [],
   "source": [
    "del mydict"
   ]
  }
 ],
 "metadata": {
  "kernelspec": {
   "display_name": "Python 3",
   "language": "python",
   "name": "python3"
  },
  "language_info": {
   "codemirror_mode": {
    "name": "ipython",
    "version": 3
   },
   "file_extension": ".py",
   "mimetype": "text/x-python",
   "name": "python",
   "nbconvert_exporter": "python",
   "pygments_lexer": "ipython3",
   "version": "3.7.3"
  }
 },
 "nbformat": 4,
 "nbformat_minor": 2
}
