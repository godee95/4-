{
 "cells": [
  {
   "cell_type": "code",
   "execution_count": 1,
   "metadata": {},
   "outputs": [],
   "source": [
    "import numpy as np"
   ]
  },
  {
   "cell_type": "code",
   "execution_count": 4,
   "metadata": {},
   "outputs": [
    {
     "name": "stdout",
     "output_type": "stream",
     "text": [
      "[False  True False False False  True  True  True]\n",
      "\n",
      "[4. 8. 9. 7.]\n",
      "\n",
      "[1. 0. 2.]\n"
     ]
    }
   ],
   "source": [
    "test_array = np.array([1,4,0,2,3,8,9,7], float)\n",
    "print(test_array > 3)\n",
    "\n",
    "# 3보다 큰 값들을 list에 출력\n",
    "print()\n",
    "print(test_array[test_array > 3])\n",
    "\n",
    "print()\n",
    "condition = test_array <3\n",
    "print(test_array[condition])"
   ]
  },
  {
   "cell_type": "code",
   "execution_count": 8,
   "metadata": {},
   "outputs": [
    {
     "name": "stdout",
     "output_type": "stream",
     "text": [
      "[[ True  True  True  True False  True  True  True  True]\n",
      " [ True  True  True False False False  True  True  True]\n",
      " [ True  True  True False  True False  True  True  True]\n",
      " [ True  True False False  True False False  True  True]\n",
      " [ True  True False  True  True  True False  True  True]\n",
      " [ True False False  True  True  True False False  True]\n",
      " [ True False  True  True  True  True  True False  True]\n",
      " [ True False  True  True  True  True  True False  True]\n",
      " [ True False  True  True  True  True  True False  True]\n",
      " [ True False False False False False False False  True]\n",
      " [ True False  True  True  True  True  True False  True]\n",
      " [ True False  True  True  True  True  True False  True]\n",
      " [ True False  True  True  True  True  True False  True]\n",
      " [ True False  True  True  True  True  True False  True]\n",
      " [ True False  True  True  True  True  True False  True]]\n",
      "\n",
      "[[1 1 1 1 0 1 1 1 1]\n",
      " [1 1 1 0 0 0 1 1 1]\n",
      " [1 1 1 0 1 0 1 1 1]\n",
      " [1 1 0 0 1 0 0 1 1]\n",
      " [1 1 0 1 1 1 0 1 1]\n",
      " [1 0 0 1 1 1 0 0 1]\n",
      " [1 0 1 1 1 1 1 0 1]\n",
      " [1 0 1 1 1 1 1 0 1]\n",
      " [1 0 1 1 1 1 1 0 1]\n",
      " [1 0 0 0 0 0 0 0 1]\n",
      " [1 0 1 1 1 1 1 0 1]\n",
      " [1 0 1 1 1 1 1 0 1]\n",
      " [1 0 1 1 1 1 1 0 1]\n",
      " [1 0 1 1 1 1 1 0 1]\n",
      " [1 0 1 1 1 1 1 0 1]]\n"
     ]
    }
   ],
   "source": [
    " A = np.array([ \n",
    "     [12, 13, 14, 12, 16, 14, 11, 10, 9], \n",
    "     [11, 14, 12, 15, 15, 16, 10, 12, 11], \n",
    "     [10, 12, 12, 15, 14, 16, 10, 12, 12], \n",
    "     [ 9, 11, 16, 15, 14, 16, 15, 12, 10], \n",
    "     [12, 11, 16, 14, 10, 12, 16, 12, 13], \n",
    "     [10, 15, 16, 14, 14, 14, 16, 15, 12], \n",
    "     [13, 17, 14, 10, 14, 11, 14, 15, 10],\n",
    "     [10, 16, 12, 14, 11, 12, 14, 18, 11], \n",
    "     [10, 19, 12, 14, 11, 12, 14, 18, 10], \n",
    "     [14, 22, 17, 19, 16, 17, 18, 17, 13], \n",
    "     [10, 16, 12, 14, 11, 12, 14, 18, 11], \n",
    "     [10, 16, 12, 14, 11, 12, 14, 18, 11], \n",
    "     [10, 19, 12, 14, 11, 12, 14, 18, 10], \n",
    "     [14, 22, 12, 14, 11, 12, 14, 17, 13], \n",
    "     [10, 16, 12, 14, 11, 12, 14, 18, 11]])\n",
    "    \n",
    "B = A<15\n",
    "print(B)\n",
    "\n",
    "print()\n",
    "\n",
    "print(B.astype(np.int))"
   ]
  },
  {
   "cell_type": "code",
   "execution_count": 20,
   "metadata": {},
   "outputs": [
    {
     "name": "stdout",
     "output_type": "stream",
     "text": [
      "[6. 8.]\n",
      "\n",
      "[[ 1.  4.]\n",
      " [ 9. 16.]]\n",
      "\n",
      "[ 1.  4. 16. 16.  4.]\n",
      "\n",
      "[[ 1.  4.]\n",
      " [ 1.  4.]\n",
      " [ 9. 16.]\n",
      " [ 9. 16.]\n",
      " [ 1.  4.]]\n"
     ]
    }
   ],
   "source": [
    "a = np.array([2,4,6,8], float)\n",
    "print(a[a>4])\n",
    "\n",
    "print()\n",
    "a.take(b) # take : bracket index\n",
    "\n",
    "a = np.array([[1,4],[9,16]], float)\n",
    "b = np.array([0,0,1,1,0], int)\n",
    "c = np.array([0,1,1,1,1], int)\n",
    "\n",
    "print(a)\n",
    "print()\n",
    "\n",
    "# b row index, c column index\n",
    "print(a[b,c])\n",
    "print()\n",
    "print(a[b])"
   ]
  },
  {
   "cell_type": "code",
   "execution_count": null,
   "metadata": {},
   "outputs": [],
   "source": []
  }
 ],
 "metadata": {
  "kernelspec": {
   "display_name": "Python 3",
   "language": "python",
   "name": "python3"
  },
  "language_info": {
   "codemirror_mode": {
    "name": "ipython",
    "version": 3
   },
   "file_extension": ".py",
   "mimetype": "text/x-python",
   "name": "python",
   "nbconvert_exporter": "python",
   "pygments_lexer": "ipython3",
   "version": "3.7.3"
  }
 },
 "nbformat": 4,
 "nbformat_minor": 2
}
