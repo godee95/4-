{
 "cells": [
  {
   "cell_type": "code",
   "execution_count": 1,
   "metadata": {},
   "outputs": [],
   "source": [
    "import numpy as np"
   ]
  },
  {
   "cell_type": "code",
   "execution_count": 7,
   "metadata": {},
   "outputs": [
    {
     "name": "stdout",
     "output_type": "stream",
     "text": [
      "[[1. 2. 3.]\n",
      " [4. 5. 6.]]\n",
      "\n",
      "[[ 2.  4.  6.]\n",
      " [ 8. 10. 12.]]\n",
      "\n",
      "[[0. 0. 0.]\n",
      " [0. 0. 0.]]\n",
      "\n",
      "[[ 1.  4.  9.]\n",
      " [16. 25. 36.]]\n",
      "\n",
      "[[ 1  2  3  4]\n",
      " [ 5  6  7  8]\n",
      " [ 9 10 11 12]]\n",
      "\n",
      "[[  1   4   9  16]\n",
      " [ 25  36  49  64]\n",
      " [ 81 100 121 144]]\n"
     ]
    }
   ],
   "source": [
    "test_a = np.array([[1,2,3],[4,5,6]], float)\n",
    "print(test_a)\n",
    "\n",
    "print()\n",
    "print(test_a + test_a)\n",
    "print()\n",
    "print(test_a - test_a)\n",
    "print()\n",
    "print(test_a * test_a)\n",
    "\n",
    "print()\n",
    "matrix_1 = np.arange(1,13).reshape(3,4)\n",
    "print(matrix_1)\n",
    "print()\n",
    "print(matrix_1*matrix_1)"
   ]
  },
  {
   "cell_type": "code",
   "execution_count": 15,
   "metadata": {},
   "outputs": [
    {
     "name": "stdout",
     "output_type": "stream",
     "text": [
      "[[1 2 3]\n",
      " [4 5 6]]\n",
      "\n",
      "[[ 7  8]\n",
      " [ 9 10]\n",
      " [11 12]]\n",
      "\n",
      "[[ 58  64]\n",
      " [139 154]]\n",
      "\n",
      "[[1 2 3]\n",
      " [4 5 6]]\n",
      "\n",
      "[[1 4]\n",
      " [2 5]\n",
      " [3 6]]\n",
      "\n",
      "[[1 4]\n",
      " [2 5]\n",
      " [3 6]]\n",
      "\n",
      "[[17 22 27]\n",
      " [22 29 36]\n",
      " [27 36 45]]\n",
      "\n",
      "[[14 32]\n",
      " [32 77]]\n"
     ]
    }
   ],
   "source": [
    "test_a = np.arange(1,7).reshape(2,3)\n",
    "test_b = np.arange(7,13).reshape(3,2)\n",
    "\n",
    "print(test_a)\n",
    "print()\n",
    "print(test_b)\n",
    "\n",
    "# 2행 3열 (곱하기) 3행 2열 = 2행 2열\n",
    "print()\n",
    "print(test_a.dot(test_b))\n",
    "\n",
    "# 행렬 치환\n",
    "print()\n",
    "test_a = np.arange(1,7).reshape(2,3)\n",
    "print(test_a)\n",
    "print()\n",
    "print(test_a.transpose())\n",
    "print()\n",
    "print(test_a.T)\n",
    "print()\n",
    "\n",
    "# 행렬 곱\n",
    "print(test_a.T.dot(test_a))\n",
    "print()\n",
    "print(test_a.dot(test_a.T))"
   ]
  },
  {
   "cell_type": "code",
   "execution_count": 33,
   "metadata": {},
   "outputs": [
    {
     "name": "stdout",
     "output_type": "stream",
     "text": [
      "[[1. 2. 3.]\n",
      " [4. 5. 6.]]\n",
      "\n",
      "[[4. 5. 6.]\n",
      " [7. 8. 9.]]\n",
      "\n",
      "[[-2. -1.  0.]\n",
      " [ 1.  2.  3.]]\n",
      "\n",
      "[[ 5. 10. 15.]\n",
      " [20. 25. 30.]]\n",
      "\n",
      "[[0.2 0.4 0.6]\n",
      " [0.8 1.  1.2]]\n",
      "\n",
      "[[ 4.  9. 14.]\n",
      " [19. 24. 29.]]\n",
      "\n",
      "[[ 1.  4.  9.]\n",
      " [16. 25. 36.]]\n",
      "\n",
      "\n",
      "[[ 1  2  3]\n",
      " [ 4  5  6]\n",
      " [ 7  8  9]\n",
      " [10 11 12]] [10 20 30]\n",
      "\n",
      "[[11 22 33]\n",
      " [14 25 36]\n",
      " [17 28 39]\n",
      " [20 31 42]]\n"
     ]
    }
   ],
   "source": [
    "test_matrix = np.array([[1,2,3],[4,5,6]],float)\n",
    "print(test_matrix)\n",
    "print()\n",
    "\n",
    "# scalar를 알아서 행렬 크기 조절해 더해주기\n",
    "scalar=3\n",
    "print(test_matrix + scalar)\n",
    "print()\n",
    "print(test_matrix - scalar)\n",
    "print()\n",
    "print(test_matrix *5)\n",
    "print()\n",
    "print(test_matrix/5)\n",
    "print()\n",
    "print(test_matrix//0.2)\n",
    "print()\n",
    "print(test_matrix**2)\n",
    "\n",
    "print()\n",
    "print()\n",
    "test_matrix = np.arange(1,13).reshape(4,3)\n",
    "test_vector = np.arange(10,40,10)\n",
    "print(test_matrix,test_vector)\n",
    "\n",
    "print()\n",
    "print(test_matrix + test_vector)"
   ]
  },
  {
   "cell_type": "code",
   "execution_count": null,
   "metadata": {},
   "outputs": [],
   "source": [
    "def sclar_vector_product(scalar, vector):\n",
    "    result = []\n",
    "    for value in vector:\n",
    "        result.append(scalar*value)\n",
    "    return result\n",
    "\n",
    "iternation_max = 100000000\n",
    "\n",
    "vector = list(range(iternation_max))\n",
    "scalar = 2 \n",
    "\n",
    "%timeit sclar_vector_product(scalar, vector) # for loop\n",
    "%timeit [scalar * value for value in range(iternation_max)] # list comprehension %timeit np.arange(iternation_max) * scalar # numpy\n"
   ]
  },
  {
   "cell_type": "code",
   "execution_count": null,
   "metadata": {},
   "outputs": [],
   "source": []
  }
 ],
 "metadata": {
  "kernelspec": {
   "display_name": "Python 3",
   "language": "python",
   "name": "python3"
  },
  "language_info": {
   "codemirror_mode": {
    "name": "ipython",
    "version": 3
   },
   "file_extension": ".py",
   "mimetype": "text/x-python",
   "name": "python",
   "nbconvert_exporter": "python",
   "pygments_lexer": "ipython3",
   "version": "3.7.3"
  }
 },
 "nbformat": 4,
 "nbformat_minor": 2
}
