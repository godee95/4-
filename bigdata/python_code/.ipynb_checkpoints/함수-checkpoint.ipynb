{
 "cells": [
  {
   "cell_type": "code",
   "execution_count": 1,
   "metadata": {},
   "outputs": [
    {
     "name": "stdout",
     "output_type": "stream",
     "text": [
      "[(1, 'a', 12), (3, 'b', 84), (5, 'c', 15)]\n",
      "[(1, 3, 5), (2, 4, 6)]\n"
     ]
    }
   ],
   "source": [
    "#set {}은 순서가 없음, 랜덤이라, set부분만 랜덤\n",
    "#같은 index순으로 출력 나오지 않음\n",
    "\n",
    "print(list(zip([1,3,5],\"abc\",{12,15,84})))\n",
    "\n",
    "# index순으로 묶음, 순서를 주고 싶으면 list로 바꿔줘야 함\n",
    "print(list(zip((1,2),(3,4),(5,6))))"
   ]
  },
  {
   "cell_type": "markdown",
   "metadata": {},
   "source": [
    "# 매개변수는 mapping \n",
    "# 따라서 순서 매우 중요!"
   ]
  },
  {
   "cell_type": "code",
   "execution_count": 23,
   "metadata": {},
   "outputs": [
    {
     "ename": "SyntaxError",
     "evalue": "non-default argument follows default argument (<ipython-input-23-5214cb766d5e>, line 6)",
     "output_type": "error",
     "traceback": [
      "\u001b[1;36m  File \u001b[1;32m\"<ipython-input-23-5214cb766d5e>\"\u001b[1;36m, line \u001b[1;32m6\u001b[0m\n\u001b[1;33m    def foo(a, b=1, c):\u001b[0m\n\u001b[1;37m           ^\u001b[0m\n\u001b[1;31mSyntaxError\u001b[0m\u001b[1;31m:\u001b[0m non-default argument follows default argument\n"
     ]
    }
   ],
   "source": [
    "# 함수는 매개변수, return값의 type 상관 없음\n",
    "\n",
    "# 사용자 지정 매개변수 값은 항상 순서 마지막에!\n",
    "# 마지막에 안하면 에러 발생\n",
    "\n",
    "def foo(a, b=1, c):\n",
    "    return a+b+c\n"
   ]
  },
  {
   "cell_type": "code",
   "execution_count": 26,
   "metadata": {},
   "outputs": [
    {
     "ename": "SyntaxError",
     "evalue": "positional argument follows keyword argument (<ipython-input-26-15abd751a72b>, line 6)",
     "output_type": "error",
     "traceback": [
      "\u001b[1;36m  File \u001b[1;32m\"<ipython-input-26-15abd751a72b>\"\u001b[1;36m, line \u001b[1;32m6\u001b[0m\n\u001b[1;33m    area(x=10, y) # 사용자 지정 매개변수 뒤에 위치 하지 않으면 에러 발생\u001b[0m\n\u001b[1;37m              ^\u001b[0m\n\u001b[1;31mSyntaxError\u001b[0m\u001b[1;31m:\u001b[0m positional argument follows keyword argument\n"
     ]
    }
   ],
   "source": [
    "def area(x,y):\n",
    "    return x*y\n",
    "\n",
    "area(10, y=5) # 사용자 지정 매개변수 뒤에 있으면 ok\n",
    "\n",
    "area(x=10, y) # 뒤에 위치 하지 않으면 에러 발생"
   ]
  },
  {
   "cell_type": "code",
   "execution_count": 31,
   "metadata": {},
   "outputs": [
    {
     "ename": "TypeError",
     "evalue": "volume() got multiple values for argument 'x'",
     "output_type": "error",
     "traceback": [
      "\u001b[1;31m---------------------------------------------------------------------------\u001b[0m",
      "\u001b[1;31mTypeError\u001b[0m                                 Traceback (most recent call last)",
      "\u001b[1;32m<ipython-input-31-0a82636266d3>\u001b[0m in \u001b[0;36m<module>\u001b[1;34m\u001b[0m\n\u001b[0;32m      1\u001b[0m \u001b[1;32mdef\u001b[0m \u001b[0mvolume\u001b[0m\u001b[1;33m(\u001b[0m\u001b[0mx\u001b[0m\u001b[1;33m,\u001b[0m\u001b[0my\u001b[0m\u001b[1;33m,\u001b[0m\u001b[0mz\u001b[0m\u001b[1;33m)\u001b[0m\u001b[1;33m:\u001b[0m\u001b[1;33m\u001b[0m\u001b[1;33m\u001b[0m\u001b[0m\n\u001b[0;32m      2\u001b[0m         \u001b[1;32mreturn\u001b[0m \u001b[0mx\u001b[0m \u001b[1;33m*\u001b[0m \u001b[0my\u001b[0m \u001b[1;33m*\u001b[0m \u001b[0mz\u001b[0m\u001b[1;33m\u001b[0m\u001b[1;33m\u001b[0m\u001b[0m\n\u001b[1;32m----> 3\u001b[1;33m \u001b[0mvolume\u001b[0m\u001b[1;33m(\u001b[0m\u001b[1;36m5\u001b[0m\u001b[1;33m,\u001b[0m \u001b[0mx\u001b[0m\u001b[1;33m=\u001b[0m\u001b[1;36m2\u001b[0m\u001b[1;33m,\u001b[0m \u001b[0mz\u001b[0m\u001b[1;33m=\u001b[0m\u001b[1;36m20\u001b[0m\u001b[1;33m)\u001b[0m\u001b[1;33m\u001b[0m\u001b[1;33m\u001b[0m\u001b[0m\n\u001b[0m",
      "\u001b[1;31mTypeError\u001b[0m: volume() got multiple values for argument 'x'"
     ]
    }
   ],
   "source": [
    "def volume(x,y,z): \n",
    "        return x * y * z\n",
    "volume(5, x=2, z=20)\n",
    "\n",
    "# 순서에 따르면 x=5그런데 뒤에서 x=2로 또 지정해 주었음\n",
    "# x값 중복 지정으로 에러 발생"
   ]
  },
  {
   "cell_type": "code",
   "execution_count": 33,
   "metadata": {},
   "outputs": [
    {
     "name": "stdout",
     "output_type": "stream",
     "text": [
      "38.0\n"
     ]
    }
   ],
   "source": [
    "# 첫번째 10 값이 first \n",
    "# 20,30,40,50 은 가변변수 rest에 tuple형식으로 받음\n",
    "# 가변 매개변수(*rest)\n",
    "\n",
    "def avg(first, *rest):\n",
    "    return (first+sum(rest)/(1+len(rest)))\n",
    "\n",
    "print(avg(10,20,30,40,50))"
   ]
  },
  {
   "cell_type": "code",
   "execution_count": 35,
   "metadata": {},
   "outputs": [
    {
     "name": "stdout",
     "output_type": "stream",
     "text": [
      "5 6\n",
      "{'z': 7}\n"
     ]
    }
   ],
   "source": [
    "# 키워드 매개변수(**kw)는 사전 형식으로 인수 전달\n",
    "\n",
    "def foo(x, y, **kw): \n",
    "    print(x,y) \n",
    "    print(kw)\n",
    "    \n",
    "foo(x=5, y=6, z=7) \n"
   ]
  },
  {
   "cell_type": "code",
   "execution_count": 40,
   "metadata": {},
   "outputs": [
    {
     "name": "stdout",
     "output_type": "stream",
     "text": [
      "1 2\n",
      "(3, 4)\n",
      "{'c': 5, 'd': 10}\n"
     ]
    }
   ],
   "source": [
    "def foo(a, b, *args, **kw): \n",
    "    print(a,b) \n",
    "    print(args) \n",
    "    print(kw)\n",
    "    \n",
    "foo(1,2,3,4,c=5,d=10)\n",
    "    "
   ]
  },
  {
   "cell_type": "code",
   "execution_count": 41,
   "metadata": {},
   "outputs": [
    {
     "name": "stdout",
     "output_type": "stream",
     "text": [
      "1 : I learn Python\n",
      "2 : I learn Python\n",
      "3 : I learn Java\n",
      "4 : I learn Java\n"
     ]
    }
   ],
   "source": [
    "# global 변수는 함수내에서 global 변수를 쓰기 위해 선언\n",
    "\n",
    "def foo(): \n",
    "    global s \n",
    "    print('2 :', s) \n",
    "    s = \"I learn Java\" \n",
    "    print('3 :', s)\n",
    "    \n",
    "# main \n",
    "s = \"I learn Python\" \n",
    "print('1 :', s) #1번출력(함수와 무관)\n",
    "foo() #2,3출력 함수에 의해 s변경됨\n",
    "print('4 :', s) # 함수 나와 변경된 s를 4출력\n"
   ]
  },
  {
   "cell_type": "code",
   "execution_count": 42,
   "metadata": {},
   "outputs": [
    {
     "name": "stdout",
     "output_type": "stream",
     "text": [
      "5\n"
     ]
    }
   ],
   "source": [
    "# lambda 함수 <인수> : <반환식>\n",
    "# 연산쪽에서 사용하기 위해서, 함수 호출 번거로우므로\n",
    "\n",
    "add = lambda x, y: x + y \n",
    "print(add(2,3)) "
   ]
  },
  {
   "cell_type": "markdown",
   "metadata": {},
   "source": [
    "# function_Sample_code"
   ]
  },
  {
   "cell_type": "code",
   "execution_count": 47,
   "metadata": {},
   "outputs": [
    {
     "name": "stdout",
     "output_type": "stream",
     "text": [
      "-5\n",
      "5\n"
     ]
    }
   ],
   "source": [
    "# 절대값을 리턴하는 함수\n",
    "# abs_fun(-5)\n",
    "# 내장함수 쓰지 말기\n",
    "\n",
    "n=int(input())\n",
    "\n",
    "def abs_fun (n):\n",
    "    if n>=0 :\n",
    "        return n\n",
    "    else :\n",
    "        return -n\n",
    "    \n",
    "#main\n",
    "print(abs_fun(n))"
   ]
  },
  {
   "cell_type": "code",
   "execution_count": 50,
   "metadata": {},
   "outputs": [
    {
     "name": "stdout",
     "output_type": "stream",
     "text": [
      "12.56\n"
     ]
    }
   ],
   "source": [
    "# 반지름을 받아서 원의 면적을 리턴하는 함수\n",
    "# area(2)\n",
    "# 제곱나오는 내장함수 pow(n, 제곱근)\n",
    "\n",
    "def area (n):\n",
    "    return pow(n,2)*3.14\n",
    "\n",
    "#main\n",
    "\n",
    "print(area(2))"
   ]
  },
  {
   "cell_type": "code",
   "execution_count": 57,
   "metadata": {},
   "outputs": [
    {
     "name": "stdout",
     "output_type": "stream",
     "text": [
      "**********\n",
      "Name :  성호\n",
      "E-mail :  aaa@aa.com\n",
      "Office Address :  서울\n",
      "**********\n"
     ]
    }
   ],
   "source": [
    "# 이름, 주소, 이메일을 받고 명함을 출력하는 함수\n",
    "\n",
    "def print_business_card(name, mail, house) :\n",
    "    print ('*'*10)\n",
    "    print (\"Name : \",name)\n",
    "    print (\"E-mail : \",mail)\n",
    "    print (\"Office Address : \",house)\n",
    "    print ('*'*10)\n",
    "    \n",
    "print_business_card('성호','aaa@aa.com','서울')"
   ]
  },
  {
   "cell_type": "code",
   "execution_count": 66,
   "metadata": {},
   "outputs": [
    {
     "data": {
      "text/plain": [
       "30"
      ]
     },
     "execution_count": 66,
     "metadata": {},
     "output_type": "execute_result"
    }
   ],
   "source": [
    "# 일반 매개변수('sum','mul')와 가변매개 변수를 받고,\n",
    "# 'sum'이면 가변매개 변수의 합, \n",
    "# 'mul'이면 가변 매개 변수의 곱을 리턴\n",
    "# 가변매개 변수는 여러개의 변수를 받을 수 있음\n",
    "\n",
    "# for i in a : 가변변수들을 리스트로 보고, \n",
    "#리스트 값들을 하나씩 데려온다고 이해\n",
    "\n",
    "def sum_mul (q, *a):\n",
    "    if q == 'sum':\n",
    "        return sum(a)\n",
    "    else :\n",
    "        result=1\n",
    "        for i in a:\n",
    "            result=result*i\n",
    "        return result\n",
    "    \n",
    "\n",
    "sum_mul('mul', 5,6)"
   ]
  },
  {
   "cell_type": "code",
   "execution_count": 69,
   "metadata": {},
   "outputs": [
    {
     "name": "stdout",
     "output_type": "stream",
     "text": [
      "good morning Everyone\n",
      "good mornig Mr.Park\n",
      "안녕하세요 Everyone\n",
      "안녕하세요 김선생님\n"
     ]
    }
   ],
   "source": [
    "# 기본값이 들어가 있는 함수\n",
    "# 기본값이 안들오면 Everyone 출력\n",
    "# 값이 들어오면 들어온 값 출력\n",
    "\n",
    "def report (txt, who = 'Everyone'):\n",
    "    print (txt, who)\n",
    "\n",
    "\n",
    "report('good morning')\n",
    "report('good mornig', 'Mr.Park')\n",
    "\n",
    "report('안녕하세요')\n",
    "report('안녕하세요','김선생님')"
   ]
  },
  {
   "cell_type": "code",
   "execution_count": 74,
   "metadata": {},
   "outputs": [
    {
     "name": "stdout",
     "output_type": "stream",
     "text": [
      "[2, 4]\n",
      "[2, 4, -12, 2, 48, 20]\n"
     ]
    }
   ],
   "source": [
    "#여러개의 매개 변수를 받아서 짝수만 출력하도록 하는 합수\n",
    "\n",
    "my_list =[]\n",
    "\n",
    "def select_even (*num):\n",
    "    for i in num:\n",
    "        if i%2==0:\n",
    "            my_list.append(i)\n",
    "    return my_list\n",
    "\n",
    "\n",
    "print(select_even(1,2,3,4))\n",
    "print(select_even(-12,2,81,99,48,20))"
   ]
  },
  {
   "cell_type": "code",
   "execution_count": 75,
   "metadata": {},
   "outputs": [
    {
     "name": "stdout",
     "output_type": "stream",
     "text": [
      "Max :  10 , Min :  2\n"
     ]
    }
   ],
   "source": [
    "# 가변 매개변수를 받고 최대값과 최소값을 출력하는 함수\n",
    "# 가변 매개변수들을 list안의 값들이라고 생각하면 이해 쉬움\n",
    "\n",
    "def minmax(*num):\n",
    "    print (\"Max : \", max(num), \", Min : \", min(num))\n",
    "\n",
    "minmax(2,3,4,5,6,3,8,10)"
   ]
  },
  {
   "cell_type": "code",
   "execution_count": 78,
   "metadata": {},
   "outputs": [
    {
     "name": "stdout",
     "output_type": "stream",
     "text": [
      "Max :  10 , Min :  2\n"
     ]
    }
   ],
   "source": [
    "# 강사님 solution\n",
    "\n",
    "def minmax(*args):\n",
    "    nMax=nMin=args[0]\n",
    "    for i in args:\n",
    "        if i> nMax:\n",
    "            nMax=i\n",
    "        elif i<nMin:\n",
    "            nMin =i\n",
    "    print(\"Max : \", nMax, \", Min : \", nMin)\n",
    "\n",
    "minmax(2,3,4,5,6,3,8,10)"
   ]
  },
  {
   "cell_type": "code",
   "execution_count": 84,
   "metadata": {},
   "outputs": [
    {
     "name": "stdout",
     "output_type": "stream",
     "text": [
      "args_sum =  18 , kwvalues_sum =  60\n"
     ]
    }
   ],
   "source": [
    "# 가변 변수와 kw매개변수를 받은 후\n",
    "# 기본변수 없는 걸로 보고 가변매개변수의 합과 kw매개변수의 합\n",
    "# 가변 변수는 tuple이고,\n",
    "# kw매개변수는 dictionary임!!\n",
    "\n",
    "def varSum(*arg, **kw):\n",
    "    print('args_sum = ', sum(arg), \", kwvalues_sum = \", sum(kw.values()))\n",
    "\n",
    "varSum(2,3,6,4,3,a=10,b=20,c=30)"
   ]
  },
  {
   "cell_type": "code",
   "execution_count": 115,
   "metadata": {},
   "outputs": [
    {
     "name": "stdout",
     "output_type": "stream",
     "text": [
      "[('a', 3), ('b', 2), ('c', 4)]\n",
      "[('b', 2), ('a', 3), ('c', 4)]\n"
     ]
    }
   ],
   "source": [
    "# kw 매개변수를 받은 후 kw값 올림차순으로 정렬해서 리턴\n",
    "# kw는 dictionary.item하면 쌍으로 나옴.\n",
    "# sorted(kw.items()) : key를 기준으로 정렬\n",
    "\n",
    "# key='우선순위'(인자임), 따라서 앞에 있는 x= kw.items()임\n",
    "# key=lambda x: x[0]  kw의 key값이 우선순위\n",
    "# key=lambda x: x[1]  kw의 value값이 우선순위\n",
    "\n",
    "def foo3(**kw):\n",
    "    # sorted(list(kw.items()))\n",
    "    print(sorted(kw.items()))\n",
    "    return print(sorted(kw.items(), key=lambda x: x[1]))\n",
    "\n",
    "\n",
    "\n",
    "foo3(a=3, b=2, c=4)"
   ]
  },
  {
   "cell_type": "code",
   "execution_count": null,
   "metadata": {},
   "outputs": [],
   "source": []
  }
 ],
 "metadata": {
  "kernelspec": {
   "display_name": "Python 3",
   "language": "python",
   "name": "python3"
  },
  "language_info": {
   "codemirror_mode": {
    "name": "ipython",
    "version": 3
   },
   "file_extension": ".py",
   "mimetype": "text/x-python",
   "name": "python",
   "nbconvert_exporter": "python",
   "pygments_lexer": "ipython3",
   "version": "3.7.3"
  }
 },
 "nbformat": 4,
 "nbformat_minor": 2
}
