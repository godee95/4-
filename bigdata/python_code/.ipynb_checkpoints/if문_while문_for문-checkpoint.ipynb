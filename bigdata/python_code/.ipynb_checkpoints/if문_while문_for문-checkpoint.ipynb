{
 "cells": [
  {
   "cell_type": "code",
   "execution_count": null,
   "metadata": {},
   "outputs": [],
   "source": [
    "# password=1234 / 패스워드를 입력받은 후 패스워드와 맞으면\n",
    "#환영합니다 출력, 틀리면 죄송합니다 .패스워드가 틀립니다. 출력\n",
    "\n",
    "p=input('패스워드를 입력하시오 : ')\n",
    "p=int(p)\n",
    "#p=int(input('패스워드를 입력하시오 : '))\n",
    "\n",
    "password = int(1234)\n",
    "\n",
    "if p==password:\n",
    "    print('환영합니다')\n",
    "else :\n",
    "    print('죄송합니다. 패스워드가 틀립니다.')"
   ]
  },
  {
   "cell_type": "code",
   "execution_count": 1,
   "metadata": {},
   "outputs": [
    {
     "name": "stdout",
     "output_type": "stream",
     "text": [
      "x를 입력하시오 : 4\n",
      "y를 입력하시오 : 5\n",
      "x는 y보다 작다\n"
     ]
    }
   ],
   "source": [
    "#x, y  두 수를 받은 후 x,y 크기 비교\n",
    "\n",
    "x=int(input('x를 입력하시오 : '))\n",
    "y=int(input('y를 입력하시오 : '))\n",
    "\n",
    "if x>y :\n",
    "    print('x가 y보다 크다')\n",
    "elif x==y :\n",
    "    print('x와 y는 같다')\n",
    "else :\n",
    "    print('x는 y보다 작다')"
   ]
  },
  {
   "cell_type": "code",
   "execution_count": 2,
   "metadata": {},
   "outputs": [
    {
     "name": "stdout",
     "output_type": "stream",
     "text": [
      "점수을 입력하시오 : 54\n",
      "당신의 학점은 D 입니다\n"
     ]
    }
   ],
   "source": [
    "#점수를 입력받은 후 학점을 출력\n",
    "score = int(input('점수을 입력하시오 : '))\n",
    "\n",
    "if score >= 90 :\n",
    "    grade = 'A'\n",
    "elif 80<=score<90 :\n",
    "    grade = 'B'\n",
    "elif 70<=score<80 :\n",
    "    grade = 'C'\n",
    "else :\n",
    "    grade ='D'\n",
    "    \n",
    "#print('당신의 학점은 ' + grade + ' 입니다')\n",
    "print('당신의 학점은' , grade , '입니다')"
   ]
  },
  {
   "cell_type": "code",
   "execution_count": 3,
   "metadata": {},
   "outputs": [
    {
     "name": "stdout",
     "output_type": "stream",
     "text": [
      "byout\n",
      "{'Mary': 12, 'Jane': 25, 'Tom': 20, 'byout': '0000'}\n"
     ]
    }
   ],
   "source": [
    "names = {'Mary':12, 'Jane': 25, 'Tom': 20}\n",
    "\n",
    "#이름을 받고 names에 없으면 0000값으로 names에 추가하고 \n",
    "#만약에 있으면 값을 출력\n",
    "\n",
    "name = input()\n",
    "\n",
    "if name in names :\n",
    "    print(names[name])\n",
    "else :\n",
    "    names[name]='0000'\n",
    "\n",
    "print(names)"
   ]
  },
  {
   "cell_type": "code",
   "execution_count": 4,
   "metadata": {},
   "outputs": [
    {
     "name": "stdout",
     "output_type": "stream",
     "text": [
      "mine : 가위\n",
      "yours : 보\n",
      "이겼습니다.\n"
     ]
    }
   ],
   "source": [
    "# 가위,바위, 보 게임\n",
    "# mine, yours \n",
    "\n",
    "mine = input('mine : ')\n",
    "yours = input('yours : ')\n",
    "\n",
    "if mine == '가위' and yours =='바위':\n",
    "    print('졌습니다.')\n",
    "elif mine == '가위' and yours == '보' :\n",
    "    print('이겼습니다.')\n",
    "elif mine == '바위' and yours == '가위' :\n",
    "    print('이겼습니다.')\n",
    "elif mine == '바위' and yours == '보':\n",
    "    print('졌습니다.')\n",
    "elif mine == '보' and yours =='가위' :\n",
    "    print('졌습니다.')\n",
    "elif mine =='보' and yours == '바위':\n",
    "    print('이겼습니다.')\n",
    "else :\n",
    "    print('비겼습니다.')\n",
    "    "
   ]
  },
  {
   "cell_type": "code",
   "execution_count": 4,
   "metadata": {},
   "outputs": [
    {
     "name": "stdout",
     "output_type": "stream",
     "text": [
      "2  4  6  8  10  \n",
      "4  8  12  16  20  \n",
      "6  12  18  24  30  \n",
      "8  16  24  32  40  \n",
      "10  20  30  40  50  \n"
     ]
    }
   ],
   "source": [
    "for x in [1,2,3,4,5]:\n",
    "    for y in [2,4,6,8,10]:\n",
    "        print(x*y,' ' ,end='') #옆으로 찍힘\n",
    "    print() # 줄바꿈"
   ]
  },
  {
   "cell_type": "code",
   "execution_count": 13,
   "metadata": {},
   "outputs": [
    {
     "name": "stdout",
     "output_type": "stream",
     "text": [
      "4 90\n",
      "2 80\n",
      "1 95\n",
      "5 88\n",
      "3 92\n"
     ]
    }
   ],
   "source": [
    "score = {4:90, 2:80, 1:95, 5:88, 3:92}\n",
    "for x, y in score.items():\n",
    "    print(x, y)"
   ]
  },
  {
   "cell_type": "code",
   "execution_count": 17,
   "metadata": {},
   "outputs": [
    {
     "name": "stdout",
     "output_type": "stream",
     "text": [
      "[1, 2, 3, 4]\n"
     ]
    }
   ],
   "source": [
    "#list comprehension , 연산 결과 빨라 많이 씀\n",
    "M1= [x for x in range(1,5)]\n",
    "print(M1)"
   ]
  },
  {
   "cell_type": "code",
   "execution_count": 18,
   "metadata": {},
   "outputs": [
    {
     "name": "stdout",
     "output_type": "stream",
     "text": [
      "[(1, 6), (1, 7), (2, 6), (2, 7), (3, 6), (3, 7)]\n"
     ]
    }
   ],
   "source": [
    "M2= [(i,j) for i in range(1,4) for j in range(6,8)]\n",
    "print(M2)"
   ]
  },
  {
   "cell_type": "code",
   "execution_count": 23,
   "metadata": {},
   "outputs": [
    {
     "name": "stdout",
     "output_type": "stream",
     "text": [
      "sum :  55\n"
     ]
    }
   ],
   "source": [
    "a=1\n",
    "sum=0\n",
    "while a<=10:\n",
    "    sum=sum+a\n",
    "    a=a+1\n",
    "print('sum : ',sum)"
   ]
  },
  {
   "cell_type": "code",
   "execution_count": 5,
   "metadata": {},
   "outputs": [
    {
     "name": "stdout",
     "output_type": "stream",
     "text": [
      "a =  1\n",
      "a =  2\n",
      "a =  3\n",
      "a =  4\n",
      "a =  5\n",
      "a =  6\n",
      "a =  7\n",
      "after while\n"
     ]
    }
   ],
   "source": [
    "a=1\n",
    "\n",
    "while a<=10 :\n",
    "    print('a = ',a)\n",
    "    if a>=7 : break\n",
    "    a=a+1\n",
    "else : \n",
    "    print('else in while')\n",
    "print('after while')"
   ]
  },
  {
   "cell_type": "code",
   "execution_count": 27,
   "metadata": {},
   "outputs": [
    {
     "name": "stdout",
     "output_type": "stream",
     "text": [
      "a =  1\n",
      "a =  3\n",
      "a =  5\n",
      "a =  7\n",
      "a =  9\n",
      "a =  11\n",
      "after while\n"
     ]
    }
   ],
   "source": [
    "#짝수인 수는 프린트 건너 뛰겠다. 프린트 하지 않겠다.\n",
    "\n",
    "a=0\n",
    "\n",
    "while a<=10:\n",
    "    a=a+1\n",
    "    if a%2==0:\n",
    "        continue\n",
    "    print('a = ', a)\n",
    "print('after while')"
   ]
  },
  {
   "cell_type": "code",
   "execution_count": 30,
   "metadata": {},
   "outputs": [
    {
     "name": "stdout",
     "output_type": "stream",
     "text": [
      "2\n",
      "6\n",
      "12\n",
      "20\n",
      "30\n",
      "sum :  30\n"
     ]
    }
   ],
   "source": [
    "a = 1\n",
    "sum = 0\n",
    "while a<=10 :\n",
    "    if a%2==0:\n",
    "        sum=sum+a\n",
    "        print(sum)\n",
    "    a=a+1\n",
    "    \n",
    "print('sum : ', sum)"
   ]
  },
  {
   "cell_type": "code",
   "execution_count": 8,
   "metadata": {},
   "outputs": [
    {
     "name": "stdout",
     "output_type": "stream",
     "text": [
      "1~10까지의 합은 :  55\n"
     ]
    }
   ],
   "source": [
    "#for으로 1~10까지의 합 구하기\n",
    "#for문 안에 변수는 알아서 1씩 증가\n",
    "sum=0\n",
    "for x in range(11) :\n",
    "    sum=sum+x\n",
    "print('1~10까지의 합은 : ',sum)"
   ]
  },
  {
   "cell_type": "code",
   "execution_count": 7,
   "metadata": {},
   "outputs": [
    {
     "name": "stdout",
     "output_type": "stream",
     "text": [
      "1~10까지의 합은 :  55\n"
     ]
    }
   ],
   "source": [
    "#while문 안의 변수는 증가시켜 줘야함.\n",
    "sum=0\n",
    "z=1\n",
    "while z<=10:\n",
    "    sum=sum+z\n",
    "    z=z+1\n",
    "print('1~10까지의 합은 : ', sum)"
   ]
  },
  {
   "cell_type": "code",
   "execution_count": 14,
   "metadata": {},
   "outputs": [
    {
     "name": "stdout",
     "output_type": "stream",
     "text": [
      "8\n"
     ]
    }
   ],
   "source": [
    "# computational thinking에서 모음의 갯수만 출력\n",
    "cnt=0\n",
    "for y in 'computational thinking':\n",
    "    if y=='o' or y=='u' or y=='a' or y=='i' or y=='e':\n",
    "        cnt=cnt+1\n",
    "print(cnt)"
   ]
  },
  {
   "cell_type": "code",
   "execution_count": 16,
   "metadata": {},
   "outputs": [
    {
     "name": "stdout",
     "output_type": "stream",
     "text": [
      "8\n",
      "['o', 'u', 'a', 'i', 'o', 'a', 'i', 'i']\n"
     ]
    }
   ],
   "source": [
    "#!!!!!!!!!!!!!!!!!\n",
    "#teacher's solution\n",
    "count =0\n",
    "letters=[]\n",
    "text ='computational thinking'\n",
    "for letter in text:\n",
    "    if letter in 'aeiou' :\n",
    "        count+=1\n",
    "        letters.append(letter)\n",
    "print(count)\n",
    "print(letters)"
   ]
  },
  {
   "cell_type": "code",
   "execution_count": 24,
   "metadata": {},
   "outputs": [
    {
     "name": "stdout",
     "output_type": "stream",
     "text": [
      "[(0, 5), (0, 6), (0, 7), (0, 8), (0, 9), (0, 10), (1, 5), (1, 6), (1, 7), (1, 8), (1, 9), (1, 10), (2, 5), (2, 6), (2, 7), (2, 8), (2, 9), (2, 10), (3, 5), (3, 6), (3, 7), (3, 8), (3, 9), (3, 10), (4, 5), (4, 6), (4, 7), (4, 8), (4, 9), (4, 10)]\n"
     ]
    }
   ],
   "source": [
    "#!!!!!!!!!!!!!!!\n",
    "#list comprehension으로 숫자 조합 출력\n",
    "x = [0,1,2,3,4]\n",
    "y = [5,6,7,8,9,10]\n",
    "\n",
    "print([(i,j) for i in x for j in y])\n",
    "    "
   ]
  },
  {
   "cell_type": "code",
   "execution_count": 23,
   "metadata": {},
   "outputs": [
    {
     "name": "stdout",
     "output_type": "stream",
     "text": [
      "[0, 2, 4, 6, 8]\n"
     ]
    }
   ],
   "source": [
    "#!!!!!!!!!!!!!!!!!!!\n",
    "# list comprehension으로 짝수만 출력\n",
    "\n",
    "print([x for x in range(10) if x%2==0])\n",
    "    "
   ]
  },
  {
   "cell_type": "code",
   "execution_count": 50,
   "metadata": {},
   "outputs": [
    {
     "data": {
      "text/plain": [
       "[('BE', 'be', 2),\n",
       " ('AS', 'as', 2),\n",
       " ('PROUD', 'proud', 5),\n",
       " ('OF', 'of', 2),\n",
       " ('SOGANG', 'sogang', 6),\n",
       " ('AS', 'as', 2),\n",
       " ('SOGANG', 'sogang', 6),\n",
       " ('IS', 'is', 2),\n",
       " ('PROUD', 'proud', 5),\n",
       " ('OF', 'of', 2),\n",
       " ('YOU', 'you', 3)]"
      ]
     },
     "execution_count": 50,
     "metadata": {},
     "output_type": "execute_result"
    }
   ],
   "source": [
    "#!!!!!!!!!!!!!!!!!\n",
    "# phrase = 'Be as proud of Sogang as Sogang is proud of you'\n",
    "# list comprehension으로 다음과 같이 나타내어라.\n",
    "# [('BE', 'be', 2), ('AS', 'as', 2),...]\n",
    "\n",
    "ph = 'Be as proud of Sogang as Sogang is proud of you'\n",
    "\n",
    "#my_list = ph.split()\n",
    "[(word.upper(), word.lower(), len(word)) for word in ph.split()]\n"
   ]
  },
  {
   "cell_type": "code",
   "execution_count": 63,
   "metadata": {},
   "outputs": [
    {
     "name": "stdout",
     "output_type": "stream",
     "text": [
      "[5, 6, 7]\n"
     ]
    }
   ],
   "source": [
    "#1에서 10까지의 숫자에서 for문과 continue와 break를 활용\n",
    "# list 값으로 [5,6,7]출력\n",
    "# continue는 해당 범위 일때 건너뜀. 출력을 하지 않음\n",
    "\n",
    "a=0\n",
    "number = []\n",
    "while a<=10:\n",
    "    a=a+1\n",
    "    if a<5 or a>7 :\n",
    "       continue\n",
    "    number.append(a)\n",
    "print(number)\n",
    "    "
   ]
  },
  {
   "cell_type": "code",
   "execution_count": 68,
   "metadata": {},
   "outputs": [
    {
     "name": "stdout",
     "output_type": "stream",
     "text": [
      "점수를 입력하세요 :3\n",
      "점수를 입력하세요 :5\n",
      "점수를 입력하세요 :4\n",
      "점수를 입력하세요 :6\n",
      "점수를 입력하세요 :1\n",
      "Class average is  3.8\n"
     ]
    }
   ],
   "source": [
    "#5과목 점수의 평균을 계산 - 5과목의 점수를 5번 받는다\n",
    "total = 0\n",
    "count = 1\n",
    "\n",
    "while count < 6:\n",
    "    sum=int(input('점수를 입력하세요 :'))\n",
    "    total = total+sum\n",
    "    count = count+1\n",
    "avrg = total/5\n",
    "\n",
    "#학급 평균 출력\n",
    "print(\"Class average is \", avrg)"
   ]
  },
  {
   "cell_type": "code",
   "execution_count": 88,
   "metadata": {},
   "outputs": [
    {
     "name": "stdout",
     "output_type": "stream",
     "text": [
      "enter number :5\n",
      "5! is 120\n"
     ]
    }
   ],
   "source": [
    "#팩토리얼 while문\n",
    "\n",
    "num=int(input('enter number :'))\n",
    "d=num\n",
    "result=1\n",
    "\n",
    "#while d >=1 :\n",
    "#    result=result*d\n",
    "#    d=d-1;\n",
    "\n",
    "#팩토리얼 for문\n",
    "for d in range(num) :\n",
    "    result = result * (num-d)\n",
    "\n",
    "print(str(num) + '! is '+ str(result))"
   ]
  },
  {
   "cell_type": "code",
   "execution_count": 91,
   "metadata": {},
   "outputs": [
    {
     "name": "stdout",
     "output_type": "stream",
     "text": [
      "[1, 3, 5]\n"
     ]
    }
   ],
   "source": [
    "#continue를 사용해서 홀수만 출력\n",
    "scope = [1,2,3,4,5]\n",
    "s = []\n",
    "\n",
    "for i in scope:\n",
    "    if i%2==0:\n",
    "        continue\n",
    "    s.append(i)\n",
    "print(s)"
   ]
  },
  {
   "cell_type": "code",
   "execution_count": 97,
   "metadata": {},
   "outputs": [
    {
     "name": "stdout",
     "output_type": "stream",
     "text": [
      "------> 5\n",
      "n = 5 : oddSum = 9, evenSum = 6\n"
     ]
    }
   ],
   "source": [
    "n = int(input('------> '))\n",
    "oddsum=0\n",
    "evensum=0\n",
    "\n",
    "for i in range(n+1):\n",
    "    if i%2==0:\n",
    "        evensum=evensum+i\n",
    "    else :\n",
    "        oddsum=oddsum+i\n",
    "\n",
    "print(\"n = {} : oddSum = {}, evenSum = {}\".format(n, oddsum, evensum))"
   ]
  },
  {
   "cell_type": "code",
   "execution_count": 100,
   "metadata": {},
   "outputs": [
    {
     "name": "stdout",
     "output_type": "stream",
     "text": [
      "nMin = 60, nMax = 100\n"
     ]
    }
   ],
   "source": [
    "# list의 최대값, 최소값 출력\n",
    "L = [70,100,80,60,90]\n",
    "nMin = nMax = L[0]\n",
    "\n",
    "#nMin=min(L)\n",
    "#nMan=max(L)\n",
    "\n",
    "for i in L:\n",
    "    if i > nMax:\n",
    "        nMax=i\n",
    "    elif i<nMin:\n",
    "        nMin=i\n",
    "\n",
    "print(\"nMin = %d, nMax = %d\" % (nMin,nMax))"
   ]
  },
  {
   "cell_type": "code",
   "execution_count": 14,
   "metadata": {},
   "outputs": [
    {
     "name": "stdout",
     "output_type": "stream",
     "text": [
      "1x1=1  2x1=2  3x1=3  4x1=4  5x1=5  6x1=6  7x1=7  8x1=8  9x1=9  \n",
      "1x2=2  2x2=4  3x2=6  4x2=8  5x2=10 6x2=12 7x2=14 8x2=16 9x2=18 \n",
      "1x3=3  2x3=6  3x3=9  4x3=12 5x3=15 6x3=18 7x3=21 8x3=24 9x3=27 \n",
      "1x4=4  2x4=8  3x4=12 4x4=16 5x4=20 6x4=24 7x4=28 8x4=32 9x4=36 \n",
      "1x5=5  2x5=10 3x5=15 4x5=20 5x5=25 6x5=30 7x5=35 8x5=40 9x5=45 \n",
      "1x6=6  2x6=12 3x6=18 4x6=24 5x6=30 6x6=36 7x6=42 8x6=48 9x6=54 \n",
      "1x7=7  2x7=14 3x7=21 4x7=28 5x7=35 6x7=42 7x7=49 8x7=56 9x7=63 \n",
      "1x8=8  2x8=16 3x8=24 4x8=32 5x8=40 6x8=48 7x8=56 8x8=64 9x8=72 \n",
      "1x9=9  2x9=18 3x9=27 4x9=36 5x9=45 6x9=54 7x9=63 8x9=72 9x9=81 \n"
     ]
    }
   ],
   "source": [
    "# 구구단 출력\n",
    "# format 두자리비어두는 형식 {:>2} {:^2} {:<2}\n",
    "for i in range(1,10):\n",
    "    for j in range (1,10):\n",
    "        #print(\"%d * %d = %d      \" % (j,i,i*j), end = '')\n",
    "        print('{}x{}={:^2}'.format(j,i,j*i), end = ' ')\n",
    "    print()"
   ]
  },
  {
   "cell_type": "code",
   "execution_count": 13,
   "metadata": {},
   "outputs": [
    {
     "name": "stdout",
     "output_type": "stream",
     "text": [
      "양의 정수 ----> 5\n",
      "소수입니다.\n"
     ]
    }
   ],
   "source": [
    "# 어려움!!!!!!!!!!!!!!!\n",
    "#받은 수가 소수인지 판별하기\n",
    "\n",
    "n = int(input('양의 정수 ----> '))\n",
    "prime = True\n",
    " \n",
    "if n==1:\n",
    "    prime = False\n",
    "else :\n",
    "    for i in range(2,n):\n",
    "        if n%i == 0:\n",
    "            prime=False\n",
    "            break\n",
    "# 출력 부분, prime=1이면 소수입니다.\n",
    "if prime : \n",
    "    print('소수입니다.')\n",
    "else :\n",
    "    print('소수가 아닙니다.')"
   ]
  },
  {
   "cell_type": "code",
   "execution_count": 21,
   "metadata": {},
   "outputs": [
    {
     "name": "stdout",
     "output_type": "stream",
     "text": [
      "양의 정수 ----> 4\n",
      "소수가 아닙니다.\n"
     ]
    }
   ],
   "source": [
    "n = int(input('양의 정수 ----> '))\n",
    "cnt=0\n",
    "\n",
    "for i in range(1,n):\n",
    "    if n%i==0:\n",
    "        cnt=cnt+1\n",
    "    else :\n",
    "        cnt=cnt+0\n",
    "\n",
    "if cnt==1:\n",
    "    print('소수입니다.')\n",
    "else:\n",
    "    print('소수가 아닙니다.')"
   ]
  },
  {
   "cell_type": "markdown",
   "metadata": {},
   "source": [
    "# 별찍기"
   ]
  },
  {
   "cell_type": "code",
   "execution_count": 22,
   "metadata": {},
   "outputs": [
    {
     "name": "stdout",
     "output_type": "stream",
     "text": [
      "\n",
      "*\n",
      "**\n",
      "***\n",
      "****\n",
      "*****\n",
      "******\n",
      "*******\n",
      "********\n",
      "*********\n"
     ]
    }
   ],
   "source": [
    "for i in range(10):\n",
    "    print(\"*\"*i)a"
   ]
  },
  {
   "cell_type": "code",
   "execution_count": 5,
   "metadata": {},
   "outputs": [
    {
     "name": "stdout",
     "output_type": "stream",
     "text": [
      "**********\n",
      "*********\n",
      "********\n",
      "*******\n",
      "******\n",
      "*****\n",
      "****\n",
      "***\n",
      "**\n",
      "*\n"
     ]
    }
   ],
   "source": [
    "for i in range(10):\n",
    "    print(\"*\"*(10-i))"
   ]
  },
  {
   "cell_type": "code",
   "execution_count": 6,
   "metadata": {},
   "outputs": [
    {
     "name": "stdout",
     "output_type": "stream",
     "text": [
      "*\n",
      "***\n",
      "*****\n",
      "*******\n",
      "*********\n"
     ]
    }
   ],
   "source": [
    "for i in range(1,10,2):\n",
    "    print(\"*\"*i)"
   ]
  },
  {
   "cell_type": "code",
   "execution_count": 15,
   "metadata": {},
   "outputs": [
    {
     "name": "stdout",
     "output_type": "stream",
     "text": [
      "        *\n",
      "      ***\n",
      "    *****\n",
      "  *******\n",
      "*********\n"
     ]
    }
   ],
   "source": [
    "# 빈칸 9,7,5,3,1\n",
    "# *는 1,3,5,7,9\n",
    "\n",
    "for i in range(1,10,2):\n",
    "    print(' '*(9-i)+\"*\"*i)"
   ]
  },
  {
   "cell_type": "code",
   "execution_count": 14,
   "metadata": {},
   "outputs": [
    {
     "name": "stdout",
     "output_type": "stream",
     "text": [
      "    *     \n",
      "   ***    \n",
      "  *****   \n",
      " *******  \n",
      "********* \n"
     ]
    }
   ],
   "source": [
    "# 중앙에 오도록 format 설정 이용 \n",
    "#{:^10} 10자리 중앙에 오도록\n",
    "for i in range(1,10,2):\n",
    "    print('{:^10}'.format(\"*\"*i))"
   ]
  },
  {
   "cell_type": "code",
   "execution_count": null,
   "metadata": {},
   "outputs": [],
   "source": []
  }
 ],
 "metadata": {
  "kernelspec": {
   "display_name": "Python 3",
   "language": "python",
   "name": "python3"
  },
  "language_info": {
   "codemirror_mode": {
    "name": "ipython",
    "version": 3
   },
   "file_extension": ".py",
   "mimetype": "text/x-python",
   "name": "python",
   "nbconvert_exporter": "python",
   "pygments_lexer": "ipython3",
   "version": "3.7.3"
  }
 },
 "nbformat": 4,
 "nbformat_minor": 2
}
