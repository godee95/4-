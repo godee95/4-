{
 "cells": [
  {
   "cell_type": "markdown",
   "metadata": {},
   "source": [
    "# 클래스 사용하려면 객체 생성해야함\n",
    "\n",
    "* Doggy라는 클래스 사용하고 싶으면?\n",
    "* happy = Doggy()\n",
    "\n",
    "* Doggy안의 함수 talk사용(매서드 사용)\n",
    "* happy.talk()"
   ]
  },
  {
   "cell_type": "code",
   "execution_count": 3,
   "metadata": {},
   "outputs": [
    {
     "name": "stdout",
     "output_type": "stream",
     "text": [
      "Hi. I am doggy.\n"
     ]
    }
   ],
   "source": [
    "class Doggy:\n",
    "    \n",
    "    def talk(self): \n",
    "        print(\"Hi. I am doggy.\")\n",
    "# main \n",
    "happy = Doggy()   \n",
    "happy.talk()"
   ]
  },
  {
   "cell_type": "markdown",
   "metadata": {},
   "source": [
    "# Class_test"
   ]
  },
  {
   "cell_type": "code",
   "execution_count": 23,
   "metadata": {},
   "outputs": [
    {
     "name": "stdout",
     "output_type": "stream",
     "text": [
      "28.26\n",
      "18.84\n"
     ]
    }
   ],
   "source": [
    "# attribute(속성) - 반지름\n",
    "# method - init, 원의 넓이 구하기, 원의 둘레 구하기\n",
    "\n",
    "class test1:\n",
    "    # 생성자 함수\n",
    "    def __init__(self,rad):\n",
    "        self.rad = rad\n",
    "    # method 함수들\n",
    "    def area(self):\n",
    "        return (pow(self.rad,2)*3.14)\n",
    "    def perimeter(self):\n",
    "        return (self.rad*2*3.14)\n",
    "\n",
    "#main\n",
    "aa = test1(3)\n",
    "print(aa.area())\n",
    "print(aa.perimeter())"
   ]
  },
  {
   "cell_type": "code",
   "execution_count": 37,
   "metadata": {
    "scrolled": true
   },
   "outputs": [
    {
     "name": "stdout",
     "output_type": "stream",
     "text": [
      "******************************\n",
      "    Name :  성호\n",
      "    E-mail :  aaa@aa.com\n",
      "    Address :  서울\n",
      "******************************\n",
      "\n",
      "\n",
      "******************************\n",
      "    Name :  동글이\n",
      "    E-mail :  bbb@bb.com\n",
      "    Address :  부산\n",
      "******************************\n"
     ]
    }
   ],
   "source": [
    "# attribute(속성) - name, email, addr\n",
    "# method - init, setinfo, 명함인쇄하기(print_info)\n",
    "\n",
    "class test2:\n",
    "    def __init__(self, name, email, addr):\n",
    "        self.name = name\n",
    "        self.email = email\n",
    "        self.addr = addr\n",
    "    # 생성 후 변경 및 수정 원할때 쓰는 값\n",
    "    def setinfo(self, name, email, addr):\n",
    "        self.name = name\n",
    "        self.email = email\n",
    "        self.addr = addr\n",
    "    def print_info(self):\n",
    "        print('*'*30)\n",
    "        print(' '*3,'Name : ', self.name)\n",
    "        print(' '*3,'E-mail : ', self.email)\n",
    "        print(' '*3,'Address : ', self.addr)\n",
    "        print('*'*30)\n",
    "        \n",
    "        \n",
    "# main\n",
    "bb=test2('성호','aaa@aa.com','서울')\n",
    "bb.print_info()\n",
    "\n",
    "print()\n",
    "print()\n",
    "# 값 변경\n",
    "bb.setinfo('동글이','bbb@bb.com','부산')\n",
    "bb.print_info()"
   ]
  },
  {
   "cell_type": "code",
   "execution_count": 62,
   "metadata": {},
   "outputs": [
    {
     "name": "stdout",
     "output_type": "stream",
     "text": [
      "6\n",
      "8\n",
      "-2\n",
      "0.5\n",
      "\n",
      "\n",
      "10\n",
      "24\n",
      "-2\n",
      "0.6666666666666666\n",
      "\n",
      "\n",
      "16\n",
      "\n",
      "\n",
      "0.0\n"
     ]
    }
   ],
   "source": [
    "# 사칙연산 클래스 구현\n",
    "# attribute - first, second\n",
    "# method - init, sum, mul, sub, div\n",
    "\n",
    "class test3:\n",
    "    def __init__(self, first, second):\n",
    "        self.first = first\n",
    "        self.second = second\n",
    "    def setinfo(self, first, second):\n",
    "        self.first = first\n",
    "        self.second = second\n",
    "    def add(self):\n",
    "        return print(self.first + self.second)\n",
    "    def mul(self):\n",
    "        return print(self.first*self.second)\n",
    "    def sub(self):\n",
    "        return print(self.first-self.second)\n",
    "    def div(self):\n",
    "        return print(self.first/self.second)\n",
    "\n",
    "cal = test3(2,4)\n",
    "cal.add()\n",
    "cal.mul()\n",
    "cal.sub()\n",
    "cal.div()\n",
    "\n",
    "print()\n",
    "print()\n",
    "\n",
    "cal.setinfo(4,6)\n",
    "cal.add()\n",
    "cal.mul()\n",
    "cal.sub()\n",
    "cal.div()\n",
    "\n",
    "print()\n",
    "print()\n",
    "\n",
    "# 상속해서 지수승 하는 클래스 만들기\n",
    "# 상속은 부모 class의 method 모두 쓸 수 있고\n",
    "# 추가로 method 생성할 수도 있다\n",
    "# 추가로 지수승 구하는 함수 생성\n",
    "class test3_child(test3):\n",
    "    def seong(self):\n",
    "        return print(self.first**self.second)\n",
    "    \n",
    "cal2 = test3_child(2,4)\n",
    "cal2.seong()\n",
    "\n",
    "print()\n",
    "print()\n",
    "\n",
    "# Overriding - div() error\n",
    "# 상속받을때 부모 클래스를 수정하기 위해\n",
    "class over_test3(test3):\n",
    "    def div(self):\n",
    "        if self.second == 0:\n",
    "            return 0\n",
    "        else :\n",
    "            return print(self.first/self.second)\n",
    "        \n",
    "cc=over_test3(0,4)\n",
    "cc.div()"
   ]
  },
  {
   "cell_type": "code",
   "execution_count": null,
   "metadata": {},
   "outputs": [],
   "source": []
  }
 ],
 "metadata": {
  "kernelspec": {
   "display_name": "Python 3",
   "language": "python",
   "name": "python3"
  },
  "language_info": {
   "codemirror_mode": {
    "name": "ipython",
    "version": 3
   },
   "file_extension": ".py",
   "mimetype": "text/x-python",
   "name": "python",
   "nbconvert_exporter": "python",
   "pygments_lexer": "ipython3",
   "version": "3.7.3"
  }
 },
 "nbformat": 4,
 "nbformat_minor": 2
}
