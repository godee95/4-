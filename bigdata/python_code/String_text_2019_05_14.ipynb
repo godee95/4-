{
 "cells": [
  {
   "cell_type": "markdown",
   "metadata": {},
   "source": [
    "# string"
   ]
  },
  {
   "cell_type": "code",
   "execution_count": 6,
   "metadata": {},
   "outputs": [
    {
     "name": "stdout",
     "output_type": "stream",
     "text": [
      "g\n",
      "pro\n",
      "True\n",
      " PYTHON PROGRAMMING \n",
      "2\n",
      "['python', 'programming']\n",
      "python-programming\n",
      "python programming\n",
      " hello programming \n"
     ]
    }
   ],
   "source": [
    "txt=' python programming ' \n",
    "\n",
    "# 'g'를 출력하세요\n",
    "print(txt[-2])\n",
    "# 'pro'를 출력하세요\n",
    "print(txt[8:11])\n",
    "# 'gram'이 포함되어 있는지 확인하세요\n",
    "print('gram' in txt)\n",
    "# 모두 대문자로 바꾸세요\n",
    "print(txt.upper())\n",
    "# 'p'자의 개수를 출력하세요\n",
    "print(txt.count('p'))\n",
    "# 스페이스(공백)을 기준으로 분리하세요\n",
    "print(txt.split())\n",
    "# '-'를 기준으로 두 단어를 연결하세요\n",
    "my_list = txt.split()\n",
    "print('-'.join(my_list))\n",
    "# 양쪽의 공백을 제거하세요\n",
    "print(txt.strip())\n",
    "# 'python'을 'hello'로 바꾸세요\n",
    "print(txt.replace('python', 'hello'))"
   ]
  },
  {
   "cell_type": "markdown",
   "metadata": {},
   "source": [
    "# list"
   ]
  },
  {
   "cell_type": "code",
   "execution_count": 5,
   "metadata": {},
   "outputs": [
    {
     "name": "stdout",
     "output_type": "stream",
     "text": [
      "['수성', '금성', '지구']\n",
      "3\n",
      "['태양', '수성', '금성', '지구', '해왕성', '목성', '지구']\n",
      "['태양', '명왕성', '금성', '지구', '해왕성', '목성', '지구', '토성']\n",
      "['태양', '명왕성', '금성', '지구', '해왕성', '목성', '지구']\n",
      "['태양', '명왕성', '지구', '해왕성', '목성', '지구']\n",
      "['태양', '해왕성', '목성', '지구']\n",
      "['태양', '해왕성', '지구']\n",
      "['태양', '해왕성', '지구', '토성', '천왕성', '해왕성']\n",
      "['지구', '천왕성', '태양', '토성', '해왕성', '해왕성']\n",
      "['해왕성', '해왕성', '토성', '태양', '천왕성', '지구']\n",
      "['지구', '천왕성', '태양', '토성', '해왕성', '해왕성']\n",
      "False\n",
      "['지구', '천왕성', '태양', '토성', '해왕성', '해왕성', '지구', '천왕성', '태양', '토성', '해왕성', '해왕성', '지구', '천왕성', '태양', '토성', '해왕성', '해왕성']\n",
      "6\n",
      "1\n",
      "[]\n"
     ]
    }
   ],
   "source": [
    "solarsys = ['태양','수성','금성','지구','화성','목성','지구']\n",
    "solarsys1 = ['토성','천왕성','해왕성']\n",
    "planet = '지구'\n",
    "\n",
    "# solarsys에서 [수성, 금성, 지구]를 출력\n",
    "print(solarsys[1:4])\n",
    "# solarsys에서 '지구'의 위치값 출력\n",
    "print(solarsys.index(planet))\n",
    "# solarsys에서 '화성'을 '해왕성'으로 수정\n",
    "solarsys[solarsys.index('화성')]='해왕성'\n",
    "print(solarsys)\n",
    "# solarsys에서 '수성'자리에 '명왕성'을 삽입\n",
    "solarsys[solarsys.index('수성')]='명왕성'\n",
    "\n",
    "# solarsys에서 '토성'을 맨 끝에 첨가\n",
    "solarsys.append('토성')\n",
    "print(solarsys)\n",
    "# solarsys에 맨 끝 요소를 제거하고 리턴\n",
    "solarsys.pop()\n",
    "print(solarsys)\n",
    "\n",
    "# solarsys에서 '금성'을 제거\n",
    "solarsys.remove('금성')\n",
    "print(solarsys)\n",
    "# solarsys에서 1번째에서 3번째까지 삭제\n",
    "del solarsys[1:3]\n",
    "print(solarsys)\n",
    "# solarsys에서 인덱스값 2번 요소를 삭제\n",
    "del solarsys[2]\n",
    "print(solarsys)\n",
    "# solarsys와 solarsys1을 합하시오\n",
    "solarsys.extend(solarsys1)\n",
    "print(solarsys)\n",
    "# solarsys를 오름차순으로 정렬하시오\n",
    "solarsys.sort()\n",
    "print(solarsys)\n",
    "# solarsys를 내림차순으로 정렬하시오\n",
    "solarsys.sort(reverse=True)\n",
    "print(solarsys)\n",
    "\n",
    "# solarsys의 원소의 순서를 바꾸세요(역순으로 출력)\n",
    "solarsys.reverse()\n",
    "print(solarsys)\n",
    "# solarsys에 '만리장성'이 있는지 확인하세요\n",
    "print('만리장성' in solarsys)\n",
    "# solarsys를 3번 반복하세요\n",
    "print(solarsys*3)\n",
    "# solarsys의 길이를 리턴하세요\n",
    "print(len(solarsys))\n",
    "# solarsys에서 '지구'의 갯수를 출력하세요\n",
    "print(solarsys.count('지구'))\n",
    "# solarsys의 모든 원소를 지우세요\n",
    "solarsys.clear()\n",
    "print(solarsys)\n",
    "# solarsys 리스트를 삭제하세요\n",
    "#del solarsys\n",
    "\n"
   ]
  },
  {
   "cell_type": "markdown",
   "metadata": {},
   "source": [
    "# dictionary"
   ]
  },
  {
   "cell_type": "code",
   "execution_count": 7,
   "metadata": {},
   "outputs": [
    {
     "name": "stdout",
     "output_type": "stream",
     "text": [
      "<class 'dict'>\n",
      "{'red': 1, 'blue': 3, 'green': 4}\n",
      "{'red': 1, 'blue': 3, 'green': 7}\n",
      "True\n",
      "3\n",
      "{'red': 1, 'blue': 3, 'green': 7}\n",
      "1\n",
      "dict_keys(['red', 'blue', 'green'])\n",
      "dict_values([1, 3, 7])\n",
      "dict_items([('red', 1), ('blue', 3), ('green', 7)])\n",
      "{'red': 1, 'blue': 3, 'green': 7, 'black': 5}\n",
      "['black', 'blue', 'green', 'red']\n",
      "[1, 3, 5, 7]\n",
      "{'red': 1, 'blue': 3, 'green': 7}\n",
      "3\n",
      "{}\n"
     ]
    }
   ],
   "source": [
    "# mydict라는 빈 딕셔너리를 만드세요\n",
    "mydict = {}\n",
    "print(type(mydict))\n",
    "# 'red':1, 'blue':3, 'green':4 세 요소를 추가하세요\n",
    "mydict={\"red\":1, \"blue\":3, \"green\":4}\n",
    "print(mydict)\n",
    "# Green의 value를 7로 수정\n",
    "mydict[\"green\"] = 7\n",
    "# Mydict dictionary를 출력하세요\n",
    "print(mydict)\n",
    "# Key 값에 blue가 포함되어 있는지 확인\n",
    "print('blue' in mydict)\n",
    "# mydic의 길이를 출력\n",
    "print(len(mydict))\n",
    "\n",
    "# 복사해서 mydict2를 만드세요\n",
    "mydict2=mydict.copy()\n",
    "print(mydict2)\n",
    "# get을 이용해서 red의 value값을 출력하세요\n",
    "print(mydict.get('red'))\n",
    "# key값만 리스트로 출력\n",
    "print(mydict.keys())\n",
    "# value값들만 리스트로 출력하세요\n",
    "print(mydict.values())\n",
    "# key와 value의 튜플 쌍으로 각 요소를 출력하세요\n",
    "print(mydict.items())\n",
    "# key 'black'의 value를 출력하고 없음면 key black와 value 5로 삽입하세요\n",
    "mydict.setdefault(\"black\",5)\n",
    "print(mydict)\n",
    "\n",
    "# key를 기준으로 정렬\n",
    "print(sorted(mydict.keys()))\n",
    "# value를 기준으로 정렬\n",
    "print(sorted(mydict.values()))\n",
    "# Key와 value를 삭제하세요\n",
    "mydict.popitem()\n",
    "print(mydict)\n",
    "\n",
    "# blue를 삭제하면서 value값을 동시에 리턴하세요\n",
    "print(mydict.pop(\"blue\"))\n",
    "# 모든 요소를 삭제하세요\n",
    "mydict.clear()\n",
    "print(mydict)\n",
    "# mydict를 삭제하세요\n",
    " #del mydict"
   ]
  },
  {
   "cell_type": "code",
   "execution_count": null,
   "metadata": {},
   "outputs": [],
   "source": []
  }
 ],
 "metadata": {
  "kernelspec": {
   "display_name": "Python 3",
   "language": "python",
   "name": "python3"
  },
  "language_info": {
   "codemirror_mode": {
    "name": "ipython",
    "version": 3
   },
   "file_extension": ".py",
   "mimetype": "text/x-python",
   "name": "python",
   "nbconvert_exporter": "python",
   "pygments_lexer": "ipython3",
   "version": "3.7.3"
  }
 },
 "nbformat": 4,
 "nbformat_minor": 2
}
